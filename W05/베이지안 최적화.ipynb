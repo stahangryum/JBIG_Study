{
 "cells": [
  {
   "cell_type": "markdown",
   "id": "b08acc2f-6625-457b-a239-cc8696bae106",
   "metadata": {},
   "source": [
    "# 베이지안 최적화가 필요한 순간\n",
    "\n",
    "- 가능한 최소의 시도로 최적의 답을 찾아야 할 경우\n",
    "\n",
    "- 개별 시도가 너무 많은 시간/자원이 필요할 때"
   ]
  },
  {
   "cell_type": "markdown",
   "id": "2570320f-3660-4028-a728-7f36bd69cb07",
   "metadata": {},
   "source": [
    "# HyperOpt 기본 실습"
   ]
  },
  {
   "cell_type": "markdown",
   "id": "c699f739-09f9-44bb-a650-8bf5ded36dfe",
   "metadata": {},
   "source": [
    "!pip install hyperopt"
   ]
  },
  {
   "cell_type": "code",
   "execution_count": 2,
   "id": "2f516510-3e91-4407-876e-6330aaf8e8e6",
   "metadata": {},
   "outputs": [
    {
     "data": {
      "text/plain": [
       "{'x': <hyperopt.pyll.base.Apply at 0x20bf0571b80>,\n",
       " 'y': <hyperopt.pyll.base.Apply at 0x20bf300d760>}"
      ]
     },
     "execution_count": 1,
     "metadata": {},
     "output_type": "execute_result"
    }
   ],
   "source": [
    "from hyperopt import hp\n",
    "\n",
    "# -10 ~ 10까지 1간격을 가지는 입력 변수 x 집합값과 -15 ~ 15까지 1간격을 가지는 입력 변수 y 집합값 설정.\n",
    "search_space = {'x' : hp.quniform('x', -10, 10, 1), 'y' : hp.quniform('y', -15, 15, 1) }\n",
    "search_space"
   ]
  },
  {
   "cell_type": "code",
   "execution_count": 4,
   "id": "767fca45-3d85-4348-b6ff-9e2ee26d58bc",
   "metadata": {},
   "outputs": [],
   "source": [
    "from hyperopt import STATUS_OK\n",
    "\n",
    "# 목적 함수를 생성. 입력 변수값과 입력 변수 검색 범위를 가지는 딕셔너리를 인자로 받고, 특정 값을 반환\n",
    "def objective_func(search_space):\n",
    "    x = search_space['x']\n",
    "    y = search_space['y']\n",
    "    retval = x**2 - 20*y\n",
    "    \n",
    "    return retval # return {'loss': retval, 'status':STATUS_OK}"
   ]
  },
  {
   "cell_type": "code",
   "execution_count": 5,
   "id": "3134f0e3-0c66-4296-95b9-0d1efd33ca7e",
   "metadata": {},
   "outputs": [
    {
     "name": "stdout",
     "output_type": "stream",
     "text": [
      "100%|█████████████████████████████████████████████████████████████| 5/5 [00:00<00:00, 956.34trial/s, best loss: -224.0]\n",
      "best: {'x': -4.0, 'y': 12.0}\n"
     ]
    }
   ],
   "source": [
    "from hyperopt import fmin, tpe, Trials\n",
    "import numpy as np\n",
    "\n",
    "# 입력 결괏값을 저장한 Trials 객체값 생성.\n",
    "trial_val = Trials()\n",
    "\n",
    "# 목적 함수의 최솟값을 반환하는 최적 입력 변숫값을 5번의 입력값 시도(max_evals=5)로 찾아냄.\n",
    "best_01 = fmin(fn=objective_func, space=search_space, algo=tpe.suggest, max_evals=5\n",
    "               , trials=trial_val, rstate=np.random.default_rng(seed=0)\n",
    "              )\n",
    "print('best:', best_01)"
   ]
  },
  {
   "cell_type": "code",
   "execution_count": 37,
   "id": "0d6fcd9b-0334-4e6c-89c0-13eb2d379410",
   "metadata": {},
   "outputs": [
    {
     "name": "stdout",
     "output_type": "stream",
     "text": [
      "100%|███████████████████████████████████████████████████████████| 20/20 [00:00<00:00, 932.24trial/s, best loss: -280.0]\n",
      "best: {'x': 0.0, 'y': 14.0}\n"
     ]
    }
   ],
   "source": [
    "trial_val = Trials()\n",
    "\n",
    "# max_evals를 20회로 늘려서 재테스트\n",
    "best_02 = fmin(fn=objective_func, space=search_space, algo=tpe.suggest, max_evals=20\n",
    "               , trials=trial_val) #rstate=np.random.default_rng(seed=0))\n",
    "print('best:', best_02)"
   ]
  },
  {
   "cell_type": "code",
   "execution_count": 38,
   "id": "2b9fbc39-9bbe-4c33-a254-955e54e5f8a6",
   "metadata": {},
   "outputs": [
    {
     "data": {
      "text/plain": [
       "[{'loss': 341.0, 'status': 'ok'},\n",
       " {'loss': -60.0, 'status': 'ok'},\n",
       " {'loss': -204.0, 'status': 'ok'},\n",
       " {'loss': 125.0, 'status': 'ok'},\n",
       " {'loss': 25.0, 'status': 'ok'},\n",
       " {'loss': 361.0, 'status': 'ok'},\n",
       " {'loss': -264.0, 'status': 'ok'},\n",
       " {'loss': 16.0, 'status': 'ok'},\n",
       " {'loss': -279.0, 'status': 'ok'},\n",
       " {'loss': -280.0, 'status': 'ok'},\n",
       " {'loss': 136.0, 'status': 'ok'},\n",
       " {'loss': 76.0, 'status': 'ok'},\n",
       " {'loss': 9.0, 'status': 'ok'},\n",
       " {'loss': -199.0, 'status': 'ok'},\n",
       " {'loss': 261.0, 'status': 'ok'},\n",
       " {'loss': -91.0, 'status': 'ok'},\n",
       " {'loss': -231.0, 'status': 'ok'},\n",
       " {'loss': 41.0, 'status': 'ok'},\n",
       " {'loss': 36.0, 'status': 'ok'},\n",
       " {'loss': -24.0, 'status': 'ok'}]"
      ]
     },
     "execution_count": 38,
     "metadata": {},
     "output_type": "execute_result"
    }
   ],
   "source": [
    "trial_val.results"
   ]
  },
  {
   "cell_type": "code",
   "execution_count": 39,
   "id": "35f481a8-be92-48ea-98a3-845b075fa6b9",
   "metadata": {},
   "outputs": [
    {
     "data": {
      "text/plain": [
       "{'x': [-9.0,\n",
       "  10.0,\n",
       "  -6.0,\n",
       "  5.0,\n",
       "  -5.0,\n",
       "  9.0,\n",
       "  -6.0,\n",
       "  -4.0,\n",
       "  -1.0,\n",
       "  0.0,\n",
       "  -6.0,\n",
       "  -4.0,\n",
       "  -3.0,\n",
       "  -9.0,\n",
       "  9.0,\n",
       "  7.0,\n",
       "  3.0,\n",
       "  9.0,\n",
       "  6.0,\n",
       "  -6.0],\n",
       " 'y': [-13.0,\n",
       "  8.0,\n",
       "  12.0,\n",
       "  -5.0,\n",
       "  -0.0,\n",
       "  -14.0,\n",
       "  15.0,\n",
       "  0.0,\n",
       "  14.0,\n",
       "  14.0,\n",
       "  -5.0,\n",
       "  -3.0,\n",
       "  -0.0,\n",
       "  14.0,\n",
       "  -9.0,\n",
       "  7.0,\n",
       "  12.0,\n",
       "  2.0,\n",
       "  0.0,\n",
       "  3.0]}"
      ]
     },
     "execution_count": 39,
     "metadata": {},
     "output_type": "execute_result"
    }
   ],
   "source": [
    "trial_val.vals"
   ]
  },
  {
   "cell_type": "code",
   "execution_count": 44,
   "id": "a7f0fe96-4c1d-40c1-9555-386a6760ce39",
   "metadata": {},
   "outputs": [
    {
     "data": {
      "text/html": [
       "<div>\n",
       "<style scoped>\n",
       "    .dataframe tbody tr th:only-of-type {\n",
       "        vertical-align: middle;\n",
       "    }\n",
       "\n",
       "    .dataframe tbody tr th {\n",
       "        vertical-align: top;\n",
       "    }\n",
       "\n",
       "    .dataframe thead th {\n",
       "        text-align: right;\n",
       "    }\n",
       "</style>\n",
       "<table border=\"1\" class=\"dataframe\">\n",
       "  <thead>\n",
       "    <tr style=\"text-align: right;\">\n",
       "      <th></th>\n",
       "      <th>x</th>\n",
       "      <th>y</th>\n",
       "      <th>losses</th>\n",
       "    </tr>\n",
       "  </thead>\n",
       "  <tbody>\n",
       "    <tr>\n",
       "      <th>0</th>\n",
       "      <td>-9.0</td>\n",
       "      <td>-13.0</td>\n",
       "      <td>341.0</td>\n",
       "    </tr>\n",
       "    <tr>\n",
       "      <th>1</th>\n",
       "      <td>10.0</td>\n",
       "      <td>8.0</td>\n",
       "      <td>-60.0</td>\n",
       "    </tr>\n",
       "    <tr>\n",
       "      <th>2</th>\n",
       "      <td>-6.0</td>\n",
       "      <td>12.0</td>\n",
       "      <td>-204.0</td>\n",
       "    </tr>\n",
       "    <tr>\n",
       "      <th>3</th>\n",
       "      <td>5.0</td>\n",
       "      <td>-5.0</td>\n",
       "      <td>125.0</td>\n",
       "    </tr>\n",
       "    <tr>\n",
       "      <th>4</th>\n",
       "      <td>-5.0</td>\n",
       "      <td>-0.0</td>\n",
       "      <td>25.0</td>\n",
       "    </tr>\n",
       "    <tr>\n",
       "      <th>5</th>\n",
       "      <td>9.0</td>\n",
       "      <td>-14.0</td>\n",
       "      <td>361.0</td>\n",
       "    </tr>\n",
       "    <tr>\n",
       "      <th>6</th>\n",
       "      <td>-6.0</td>\n",
       "      <td>15.0</td>\n",
       "      <td>-264.0</td>\n",
       "    </tr>\n",
       "    <tr>\n",
       "      <th>7</th>\n",
       "      <td>-4.0</td>\n",
       "      <td>0.0</td>\n",
       "      <td>16.0</td>\n",
       "    </tr>\n",
       "    <tr>\n",
       "      <th>8</th>\n",
       "      <td>-1.0</td>\n",
       "      <td>14.0</td>\n",
       "      <td>-279.0</td>\n",
       "    </tr>\n",
       "    <tr>\n",
       "      <th>9</th>\n",
       "      <td>0.0</td>\n",
       "      <td>14.0</td>\n",
       "      <td>-280.0</td>\n",
       "    </tr>\n",
       "    <tr>\n",
       "      <th>10</th>\n",
       "      <td>-6.0</td>\n",
       "      <td>-5.0</td>\n",
       "      <td>136.0</td>\n",
       "    </tr>\n",
       "    <tr>\n",
       "      <th>11</th>\n",
       "      <td>-4.0</td>\n",
       "      <td>-3.0</td>\n",
       "      <td>76.0</td>\n",
       "    </tr>\n",
       "    <tr>\n",
       "      <th>12</th>\n",
       "      <td>-3.0</td>\n",
       "      <td>-0.0</td>\n",
       "      <td>9.0</td>\n",
       "    </tr>\n",
       "    <tr>\n",
       "      <th>13</th>\n",
       "      <td>-9.0</td>\n",
       "      <td>14.0</td>\n",
       "      <td>-199.0</td>\n",
       "    </tr>\n",
       "    <tr>\n",
       "      <th>14</th>\n",
       "      <td>9.0</td>\n",
       "      <td>-9.0</td>\n",
       "      <td>261.0</td>\n",
       "    </tr>\n",
       "    <tr>\n",
       "      <th>15</th>\n",
       "      <td>7.0</td>\n",
       "      <td>7.0</td>\n",
       "      <td>-91.0</td>\n",
       "    </tr>\n",
       "    <tr>\n",
       "      <th>16</th>\n",
       "      <td>3.0</td>\n",
       "      <td>12.0</td>\n",
       "      <td>-231.0</td>\n",
       "    </tr>\n",
       "    <tr>\n",
       "      <th>17</th>\n",
       "      <td>9.0</td>\n",
       "      <td>2.0</td>\n",
       "      <td>41.0</td>\n",
       "    </tr>\n",
       "    <tr>\n",
       "      <th>18</th>\n",
       "      <td>6.0</td>\n",
       "      <td>0.0</td>\n",
       "      <td>36.0</td>\n",
       "    </tr>\n",
       "    <tr>\n",
       "      <th>19</th>\n",
       "      <td>-6.0</td>\n",
       "      <td>3.0</td>\n",
       "      <td>-24.0</td>\n",
       "    </tr>\n",
       "  </tbody>\n",
       "</table>\n",
       "</div>"
      ],
      "text/plain": [
       "       x     y  losses\n",
       "0   -9.0 -13.0   341.0\n",
       "1   10.0   8.0   -60.0\n",
       "2   -6.0  12.0  -204.0\n",
       "3    5.0  -5.0   125.0\n",
       "4   -5.0  -0.0    25.0\n",
       "5    9.0 -14.0   361.0\n",
       "6   -6.0  15.0  -264.0\n",
       "7   -4.0   0.0    16.0\n",
       "8   -1.0  14.0  -279.0\n",
       "9    0.0  14.0  -280.0\n",
       "10  -6.0  -5.0   136.0\n",
       "11  -4.0  -3.0    76.0\n",
       "12  -3.0  -0.0     9.0\n",
       "13  -9.0  14.0  -199.0\n",
       "14   9.0  -9.0   261.0\n",
       "15   7.0   7.0   -91.0\n",
       "16   3.0  12.0  -231.0\n",
       "17   9.0   2.0    41.0\n",
       "18   6.0   0.0    36.0\n",
       "19  -6.0   3.0   -24.0"
      ]
     },
     "execution_count": 44,
     "metadata": {},
     "output_type": "execute_result"
    }
   ],
   "source": [
    "import pandas as pd\n",
    "\n",
    "losses = [loss_dict['loss'] for loss_dict in trial_val.results]\n",
    "losses\n",
    "\n",
    "# DataFrame으로 생성\n",
    "result_df = pd.DataFrame({'x': trial_val.vals['x'],\n",
    "                           'y': trial_val.vals['y'],\n",
    "                           'losses': losses\n",
    "                          }\n",
    "                        )\n",
    "result_df"
   ]
  },
  {
   "cell_type": "markdown",
   "id": "be85518b-4c54-42f4-bcc6-e44ac1eec86b",
   "metadata": {},
   "source": [
    "# HyperOpt를 XGBoost 하이퍼 파라미터 튜닝에 적용"
   ]
  },
  {
   "cell_type": "code",
   "execution_count": 45,
   "id": "739524a5-f6a4-4f28-8a4f-3f6d8ff5afee",
   "metadata": {},
   "outputs": [],
   "source": [
    "import pandas as pd\n",
    "import numpy as np\n",
    "from sklearn.datasets import load_breast_cancer\n",
    "from sklearn.model_selection import train_test_split\n",
    "import warnings\n",
    "warnings.filterwarnings('ignore')"
   ]
  },
  {
   "cell_type": "code",
   "execution_count": 48,
   "id": "386ad310-f374-4685-ae88-d7327d39d1ef",
   "metadata": {},
   "outputs": [],
   "source": [
    "dataset = load_breast_cancer()\n",
    "\n",
    "cancer_df = pd.DataFrame(data=dataset.data, columns=dataset.feature_names)\n",
    "cancer_df['target']= dataset.target\n",
    "X_features = cancer_df.iloc[:, :-1]\n",
    "y_label = cancer_df.iloc[:, -1]\n",
    "\n",
    "# 전체 데이터 중 80%는 학습용 데이터, 20%는 테스트용 데이터 추출\n",
    "X_train, X_test, y_train, y_test=train_test_split(X_features, y_label,\n",
    "                                         test_size=0.2, random_state=156 )\n",
    "\n",
    "# 학습 데이터를 다시 학습과 검증 데이터로 분리 \n",
    "X_tr, X_val, y_tr, y_val= train_test_split(X_train, y_train,\n",
    "                                         test_size=0.1, random_state=156 )"
   ]
  },
  {
   "cell_type": "code",
   "execution_count": 49,
   "id": "834fd00c-8309-4339-9100-6d3d9a1f3509",
   "metadata": {},
   "outputs": [],
   "source": [
    "from hyperopt import hp\n",
    "\n",
    "# max_depth는 5에서 20까지 1간격으로, min_child_weight는 1에서 2까지 1간격으로\n",
    "# colsample_bytree는 0.5에서 1사이, learning_rate는 0.01에서 0.2사이 정규 분포된 값으로 검색. \n",
    "xgb_search_space = {'max_depth': hp.quniform('max_depth', 5, 20, 1),\n",
    "                    'min_child_weight': hp.quniform('min_child_weight', 1, 2, 1),\n",
    "                    'learning_rate': hp.uniform('learning_rate', 0.01, 0.2),\n",
    "                    'colsample_bytree': hp.uniform('colsample_bytree', 0.5, 1)\n",
    "               }"
   ]
  },
  {
   "cell_type": "code",
   "execution_count": null,
   "id": "4df1c7eb-6a84-4181-9340-5d46172ec8b2",
   "metadata": {},
   "outputs": [],
   "source": [
    "from sklearn.model_selection import KFold\n",
    "from sklearn.metrics import roc_auc_score\n",
    "\n",
    "# 목적 함수 설정. \n",
    "# 추후 fmin()에서 입력된 search_space값으로 XGBClassifier 교차 검증 학습 후 -1* roc_auc 평균 값을 반환.  \n",
    "def objective_func(search_space):\n",
    "    xgb_clf = XGBClassifier(n_estimators=100, max_depth=int(search_space['max_depth'])\n",
    "                           , min_child_weight=int(search_space['min_child_weight'])\n",
    "                            , colsample_bytree=search_space['colsample_bytree']\n",
    "                            , learning_rate=search_space['learning_rate']\n",
    "                           )\n",
    "    \n",
    "    # 3개 k-fold 방식으로 평가된 roc_auc 지표를 담는 list\n",
    "    roc_auc_list= []\n",
    "    \n",
    "    # 3개 k-fold방식 적용 \n",
    "    kf = KFold(n_splits=3)\n",
    "    # X_train을 다시 학습과 검증용 데이터로 분리\n",
    "    for tr_index, val_index in kf.split(X_train):\n",
    "        # kf.split(X_train)으로 추출된 학습과 검증 index값으로 학습과 검증 데이터 세트 분리 \n",
    "        X_tr, y_tr = X_train.iloc[tr_index], y_train.iloc[tr_index]\n",
    "        X_val, y_val = X_train.iloc[val_index], y_train.iloc[val_index]\n",
    "        # early stopping은 30회로 설정하고 추출된 학습과 검증 데이터로 XGBClassifier 학습 수행.\n",
    "        xgb_clf.fit(X_tr, y_tr, early_stopping_rounds=30, eval_metric='auc'\n",
    "                   , eval_set=[(X_tr, y_tr), (X_val, y_val)])\n",
    "    \n",
    "        # 1로 예측한 확률값 추출후 roc auc 계산하고 평균 roc auc 계산을 위해 list에 결과값 담음. \n",
    "        score = roc_auc_score(y_val, xgb_clf.predict_proba(X_val)[:, 1])\n",
    "        roc_auc_list.append(score)\n",
    "    \n",
    "    # 3개 k-fold로 계산된 roc_auc값의 평균값을 반환하되, \n",
    "    # HyperOpt는 목적함수의 최소값을 위한 입력값을 찾으므로 -1을 곱한 뒤 반환. \n",
    "    return -1 * np.mean(roc_auc_list)"
   ]
  }
 ],
 "metadata": {
  "kernelspec": {
   "display_name": "Python 3 (ipykernel)",
   "language": "python",
   "name": "python3"
  },
  "language_info": {
   "codemirror_mode": {
    "name": "ipython",
    "version": 3
   },
   "file_extension": ".py",
   "mimetype": "text/x-python",
   "name": "python",
   "nbconvert_exporter": "python",
   "pygments_lexer": "ipython3",
   "version": "3.9.7"
  }
 },
 "nbformat": 4,
 "nbformat_minor": 5
}
