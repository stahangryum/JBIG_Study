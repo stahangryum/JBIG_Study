{
 "cells": [
  {
   "cell_type": "code",
   "execution_count": 2,
   "id": "6e0eb4be-701f-4461-9c28-cc0275d6daa0",
   "metadata": {},
   "outputs": [],
   "source": [
    "import numpy as np"
   ]
  },
  {
   "cell_type": "code",
   "execution_count": 6,
   "id": "ce244f1c-2ac7-4795-a8fa-84188a0f2719",
   "metadata": {},
   "outputs": [],
   "source": [
    "array1 = np.array([1,2,3])"
   ]
  },
  {
   "cell_type": "code",
   "execution_count": 7,
   "id": "dc447618-a6b6-4016-b347-1eff383dbc80",
   "metadata": {},
   "outputs": [
    {
     "name": "stdout",
     "output_type": "stream",
     "text": [
      "array1 type: <class 'numpy.ndarray'>\n"
     ]
    }
   ],
   "source": [
    "print('array1 type:', type(array1))"
   ]
  },
  {
   "cell_type": "markdown",
   "id": "7d32b650-d802-4f38-8cbc-56047c79e250",
   "metadata": {},
   "source": [
    "## ndarray의 차원과 크기를 변경하는 reshape()"
   ]
  },
  {
   "cell_type": "code",
   "execution_count": 14,
   "id": "8a6a9412-6e76-4af1-a96b-2540ed8c176e",
   "metadata": {},
   "outputs": [
    {
     "data": {
      "text/plain": [
       "array([0, 1, 2, 3, 4, 5, 6, 7, 8, 9])"
      ]
     },
     "execution_count": 14,
     "metadata": {},
     "output_type": "execute_result"
    }
   ],
   "source": [
    "array1 = np.arange(10)\n",
    "array1"
   ]
  },
  {
   "cell_type": "code",
   "execution_count": 17,
   "id": "7d9e88c9-eca5-4a6a-baed-f8a88d8e1046",
   "metadata": {},
   "outputs": [
    {
     "data": {
      "text/plain": [
       "array([[0, 1, 2, 3, 4],\n",
       "       [5, 6, 7, 8, 9]])"
      ]
     },
     "execution_count": 17,
     "metadata": {},
     "output_type": "execute_result"
    }
   ],
   "source": [
    "np.reshape(array1, (2,5))"
   ]
  },
  {
   "cell_type": "code",
   "execution_count": 18,
   "id": "566b3f52-663e-48b4-9489-4f74ba11753a",
   "metadata": {},
   "outputs": [
    {
     "data": {
      "text/plain": [
       "array([[0, 1, 2, 3, 4],\n",
       "       [5, 6, 7, 8, 9]])"
      ]
     },
     "execution_count": 18,
     "metadata": {},
     "output_type": "execute_result"
    }
   ],
   "source": [
    "array1.reshape(2,5)"
   ]
  },
  {
   "cell_type": "markdown",
   "id": "c72fd605-c42e-40bf-bb1c-cc2a362889cc",
   "metadata": {},
   "source": [
    "### -1값을 인자로 적용"
   ]
  },
  {
   "cell_type": "markdown",
   "id": "bb81eb72-efbc-4ec3-80f9-59d559d4e4b9",
   "metadata": {},
   "source": [
    "- 인자 하나를 -1로하면 나머지 인자는 알아서 결정해준다."
   ]
  },
  {
   "cell_type": "code",
   "execution_count": 19,
   "id": "a9573f82-437d-4cba-9c15-4ad9f78db092",
   "metadata": {},
   "outputs": [
    {
     "data": {
      "text/plain": [
       "array([[0, 1, 2, 3, 4],\n",
       "       [5, 6, 7, 8, 9]])"
      ]
     },
     "execution_count": 19,
     "metadata": {},
     "output_type": "execute_result"
    }
   ],
   "source": [
    "array1.reshape(2, - 1)"
   ]
  },
  {
   "cell_type": "code",
   "execution_count": 20,
   "id": "aa35b219-f70a-4219-93d3-96dd23cb566f",
   "metadata": {},
   "outputs": [],
   "source": [
    "array1 = np.arange(8)"
   ]
  },
  {
   "cell_type": "code",
   "execution_count": 26,
   "id": "35cdcaf3-73e9-4410-8e57-fff645ccc3c2",
   "metadata": {},
   "outputs": [],
   "source": [
    "array3d = array1.reshape([2,2,2]) # 3차원으로"
   ]
  },
  {
   "cell_type": "code",
   "execution_count": 22,
   "id": "d7dd2cf5-c8d7-4d6e-bfa4-1cb23298997d",
   "metadata": {},
   "outputs": [
    {
     "data": {
      "text/plain": [
       "array([[[0, 1],\n",
       "        [2, 3]],\n",
       "\n",
       "       [[4, 5],\n",
       "        [6, 7]]])"
      ]
     },
     "execution_count": 22,
     "metadata": {},
     "output_type": "execute_result"
    }
   ],
   "source": [
    "array3d"
   ]
  },
  {
   "cell_type": "code",
   "execution_count": 27,
   "id": "e95fbe1a-9df2-40df-b85b-7e95508f4d9b",
   "metadata": {},
   "outputs": [],
   "source": [
    "array5 = array3d.reshape(-1,1) # 2차원으로"
   ]
  },
  {
   "cell_type": "code",
   "execution_count": 25,
   "id": "80e32d91-93c0-4c55-a7e7-803df339efaa",
   "metadata": {},
   "outputs": [
    {
     "data": {
      "text/plain": [
       "array([[0],\n",
       "       [1],\n",
       "       [2],\n",
       "       [3],\n",
       "       [4],\n",
       "       [5],\n",
       "       [6],\n",
       "       [7]])"
      ]
     },
     "execution_count": 25,
     "metadata": {},
     "output_type": "execute_result"
    }
   ],
   "source": [
    "array5"
   ]
  },
  {
   "cell_type": "code",
   "execution_count": 3,
   "id": "a3f0f19f-f221-4c28-a133-c3ae38562af0",
   "metadata": {},
   "outputs": [
    {
     "data": {
      "text/plain": [
       "array([1, 2, 3, 4, 5, 6, 7, 8, 9])"
      ]
     },
     "execution_count": 3,
     "metadata": {},
     "output_type": "execute_result"
    }
   ],
   "source": [
    "array1 = np.arange(start=1 , stop = 10)\n",
    "array1"
   ]
  },
  {
   "cell_type": "code",
   "execution_count": 4,
   "id": "fab1797d-f9da-4e86-95b9-05e8d2f3b96b",
   "metadata": {},
   "outputs": [],
   "source": [
    "array2 = np.arange(1, 10).reshape(3,3)"
   ]
  },
  {
   "cell_type": "code",
   "execution_count": 5,
   "id": "8174f0b5-a46c-4b14-b038-7e0558f57585",
   "metadata": {},
   "outputs": [
    {
     "data": {
      "text/plain": [
       "array([[1, 2, 3],\n",
       "       [4, 5, 6],\n",
       "       [7, 8, 9]])"
      ]
     },
     "execution_count": 5,
     "metadata": {},
     "output_type": "execute_result"
    }
   ],
   "source": [
    "array2"
   ]
  },
  {
   "cell_type": "code",
   "execution_count": 7,
   "id": "da802a07-acbd-458c-b6f2-78f6df9d78c9",
   "metadata": {},
   "outputs": [
    {
     "data": {
      "text/plain": [
       "array([[7, 8, 9],\n",
       "       [4, 5, 6],\n",
       "       [1, 2, 3]])"
      ]
     },
     "execution_count": 7,
     "metadata": {},
     "output_type": "execute_result"
    }
   ],
   "source": [
    "array2[::-1]"
   ]
  },
  {
   "cell_type": "code",
   "execution_count": 8,
   "id": "fb081531-4ba3-41d8-a653-e2595af4823e",
   "metadata": {},
   "outputs": [
    {
     "data": {
      "text/plain": [
       "array([3, 1, 9, 5])"
      ]
     },
     "execution_count": 8,
     "metadata": {},
     "output_type": "execute_result"
    }
   ],
   "source": [
    "org_array = np.array([3,1,9,5])\n",
    "org_array"
   ]
  },
  {
   "cell_type": "code",
   "execution_count": 9,
   "id": "2a9f70e5-3de7-4225-b5b5-6d031d1dcf05",
   "metadata": {},
   "outputs": [
    {
     "data": {
      "text/plain": [
       "array([1, 3, 5, 9])"
      ]
     },
     "execution_count": 9,
     "metadata": {},
     "output_type": "execute_result"
    }
   ],
   "source": [
    "np.sort(org_array)"
   ]
  },
  {
   "cell_type": "code",
   "execution_count": 13,
   "id": "067a8597-f004-432e-ab39-671d166a3256",
   "metadata": {},
   "outputs": [
    {
     "name": "stdout",
     "output_type": "stream",
     "text": [
      "Object `org_array.sort()` not found.\n"
     ]
    }
   ],
   "source": [
    "?org_array.sort()"
   ]
  },
  {
   "cell_type": "code",
   "execution_count": 11,
   "id": "c18978ee-38e0-47a2-ac1f-f8ad9555b03d",
   "metadata": {},
   "outputs": [
    {
     "data": {
      "text/plain": [
       "array([1, 3, 5, 9])"
      ]
     },
     "execution_count": 11,
     "metadata": {},
     "output_type": "execute_result"
    }
   ],
   "source": [
    "org_array"
   ]
  },
  {
   "cell_type": "code",
   "execution_count": 24,
   "id": "be9387d4-5d1f-4c5d-8035-edf41810fb1d",
   "metadata": {},
   "outputs": [
    {
     "data": {
      "text/plain": [
       "array([1, 3, 5, 9])"
      ]
     },
     "execution_count": 24,
     "metadata": {},
     "output_type": "execute_result"
    }
   ],
   "source": [
    "org_array"
   ]
  },
  {
   "cell_type": "code",
   "execution_count": 25,
   "id": "dcc78b8e-71c7-42b0-b67b-33a7be028033",
   "metadata": {},
   "outputs": [],
   "source": [
    "sort_array1_desc = np.sort(org_array)[::-1]"
   ]
  },
  {
   "cell_type": "code",
   "execution_count": 26,
   "id": "cf80d4af-e32d-4cae-b6cf-1629b1c43f6d",
   "metadata": {},
   "outputs": [
    {
     "data": {
      "text/plain": [
       "array([9, 5, 3, 1])"
      ]
     },
     "execution_count": 26,
     "metadata": {},
     "output_type": "execute_result"
    }
   ],
   "source": [
    "sort_array1_desc"
   ]
  },
  {
   "cell_type": "code",
   "execution_count": 27,
   "id": "4fcda8c8-818a-428e-bf64-d0b3bf8e281d",
   "metadata": {},
   "outputs": [],
   "source": [
    "array2d = np.array([[8, 12], [7, 1]])"
   ]
  },
  {
   "cell_type": "code",
   "execution_count": 28,
   "id": "5ebd085d-7885-4975-b071-5d948cb07c1e",
   "metadata": {},
   "outputs": [
    {
     "data": {
      "text/plain": [
       "array([[ 8, 12],\n",
       "       [ 7,  1]])"
      ]
     },
     "execution_count": 28,
     "metadata": {},
     "output_type": "execute_result"
    }
   ],
   "source": [
    "array2d"
   ]
  },
  {
   "cell_type": "code",
   "execution_count": 32,
   "id": "7247205e-67a6-42e0-9bfd-8512a45912e7",
   "metadata": {},
   "outputs": [
    {
     "data": {
      "text/plain": [
       "array([[ 8, 12],\n",
       "       [ 1,  7]])"
      ]
     },
     "execution_count": 32,
     "metadata": {},
     "output_type": "execute_result"
    }
   ],
   "source": [
    "np.sort(array2d)"
   ]
  },
  {
   "cell_type": "code",
   "execution_count": 34,
   "id": "2f32dd06-f1ec-496c-9a0c-4d0852b92cb7",
   "metadata": {},
   "outputs": [
    {
     "data": {
      "text/plain": [
       "array([[ 7,  1],\n",
       "       [ 8, 12]])"
      ]
     },
     "execution_count": 34,
     "metadata": {},
     "output_type": "execute_result"
    }
   ],
   "source": [
    "np.sort(array2d, axis =0 )"
   ]
  },
  {
   "cell_type": "code",
   "execution_count": 35,
   "id": "c51e7a77-98ae-4b0a-999d-2367c4249e3a",
   "metadata": {},
   "outputs": [
    {
     "data": {
      "text/plain": [
       "array([[ 8, 12],\n",
       "       [ 1,  7]])"
      ]
     },
     "execution_count": 35,
     "metadata": {},
     "output_type": "execute_result"
    }
   ],
   "source": [
    "np.sort(array2d, axis =1 )"
   ]
  },
  {
   "cell_type": "code",
   "execution_count": 39,
   "id": "dedb130c-3386-45bf-828b-b8b69908e62d",
   "metadata": {},
   "outputs": [
    {
     "data": {
      "text/plain": [
       "array([1, 0, 3, 2], dtype=int64)"
      ]
     },
     "execution_count": 39,
     "metadata": {},
     "output_type": "execute_result"
    }
   ],
   "source": [
    "array1 = np.array([3,1,9,5])\n",
    "np.argsort(array1)"
   ]
  },
  {
   "cell_type": "code",
   "execution_count": 40,
   "id": "ee917eb3-243a-4537-868c-f7e80c73ec77",
   "metadata": {},
   "outputs": [
    {
     "data": {
      "text/plain": [
       "array([1, 3, 5, 9])"
      ]
     },
     "execution_count": 40,
     "metadata": {},
     "output_type": "execute_result"
    }
   ],
   "source": [
    "array1[np.argsort(array1)]"
   ]
  },
  {
   "cell_type": "code",
   "execution_count": null,
   "id": "78046183-ecee-4123-984e-98789f8e3b96",
   "metadata": {},
   "outputs": [],
   "source": []
  }
 ],
 "metadata": {
  "kernelspec": {
   "display_name": "Python 3 (ipykernel)",
   "language": "python",
   "name": "python3"
  },
  "language_info": {
   "codemirror_mode": {
    "name": "ipython",
    "version": 3
   },
   "file_extension": ".py",
   "mimetype": "text/x-python",
   "name": "python",
   "nbconvert_exporter": "python",
   "pygments_lexer": "ipython3",
   "version": "3.9.12"
  }
 },
 "nbformat": 4,
 "nbformat_minor": 5
}
