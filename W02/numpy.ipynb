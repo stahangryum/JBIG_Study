{
 "cells": [
  {
   "cell_type": "code",
   "execution_count": 3,
   "id": "6e0eb4be-701f-4461-9c28-cc0275d6daa0",
   "metadata": {},
   "outputs": [],
   "source": [
    "import numpy as np"
   ]
  },
  {
   "cell_type": "code",
   "execution_count": 6,
   "id": "ce244f1c-2ac7-4795-a8fa-84188a0f2719",
   "metadata": {},
   "outputs": [],
   "source": [
    "array1 = np.array([1,2,3])"
   ]
  },
  {
   "cell_type": "code",
   "execution_count": 7,
   "id": "dc447618-a6b6-4016-b347-1eff383dbc80",
   "metadata": {},
   "outputs": [
    {
     "name": "stdout",
     "output_type": "stream",
     "text": [
      "array1 type: <class 'numpy.ndarray'>\n"
     ]
    }
   ],
   "source": [
    "print('array1 type:', type(array1))"
   ]
  },
  {
   "cell_type": "markdown",
   "id": "7d32b650-d802-4f38-8cbc-56047c79e250",
   "metadata": {},
   "source": [
    "## ndarray의 차원과 크기를 변경하는 reshape()"
   ]
  },
  {
   "cell_type": "code",
   "execution_count": 14,
   "id": "8a6a9412-6e76-4af1-a96b-2540ed8c176e",
   "metadata": {},
   "outputs": [
    {
     "data": {
      "text/plain": [
       "array([0, 1, 2, 3, 4, 5, 6, 7, 8, 9])"
      ]
     },
     "execution_count": 14,
     "metadata": {},
     "output_type": "execute_result"
    }
   ],
   "source": [
    "array1 = np.arange(10)\n",
    "array1"
   ]
  },
  {
   "cell_type": "code",
   "execution_count": 17,
   "id": "7d9e88c9-eca5-4a6a-baed-f8a88d8e1046",
   "metadata": {},
   "outputs": [
    {
     "data": {
      "text/plain": [
       "array([[0, 1, 2, 3, 4],\n",
       "       [5, 6, 7, 8, 9]])"
      ]
     },
     "execution_count": 17,
     "metadata": {},
     "output_type": "execute_result"
    }
   ],
   "source": [
    "np.reshape(array1, (2,5))"
   ]
  },
  {
   "cell_type": "code",
   "execution_count": 18,
   "id": "566b3f52-663e-48b4-9489-4f74ba11753a",
   "metadata": {},
   "outputs": [
    {
     "data": {
      "text/plain": [
       "array([[0, 1, 2, 3, 4],\n",
       "       [5, 6, 7, 8, 9]])"
      ]
     },
     "execution_count": 18,
     "metadata": {},
     "output_type": "execute_result"
    }
   ],
   "source": [
    "array1.reshape(2,5)"
   ]
  },
  {
   "cell_type": "markdown",
   "id": "c72fd605-c42e-40bf-bb1c-cc2a362889cc",
   "metadata": {},
   "source": [
    "### -1값을 인자로 적용"
   ]
  },
  {
   "cell_type": "markdown",
   "id": "bb81eb72-efbc-4ec3-80f9-59d559d4e4b9",
   "metadata": {},
   "source": [
    "- 인자 하나를 -1로하면 나머지 인자는 알아서 결정해준다."
   ]
  },
  {
   "cell_type": "code",
   "execution_count": 19,
   "id": "a9573f82-437d-4cba-9c15-4ad9f78db092",
   "metadata": {},
   "outputs": [
    {
     "data": {
      "text/plain": [
       "array([[0, 1, 2, 3, 4],\n",
       "       [5, 6, 7, 8, 9]])"
      ]
     },
     "execution_count": 19,
     "metadata": {},
     "output_type": "execute_result"
    }
   ],
   "source": [
    "array1.reshape(2, - 1)"
   ]
  },
  {
   "cell_type": "code",
   "execution_count": 20,
   "id": "aa35b219-f70a-4219-93d3-96dd23cb566f",
   "metadata": {},
   "outputs": [],
   "source": [
    "array1 = np.arange(8)"
   ]
  },
  {
   "cell_type": "code",
   "execution_count": 26,
   "id": "35cdcaf3-73e9-4410-8e57-fff645ccc3c2",
   "metadata": {},
   "outputs": [],
   "source": [
    "array3d = array1.reshape([2,2,2]) # 3차원으로"
   ]
  },
  {
   "cell_type": "code",
   "execution_count": 22,
   "id": "d7dd2cf5-c8d7-4d6e-bfa4-1cb23298997d",
   "metadata": {},
   "outputs": [
    {
     "data": {
      "text/plain": [
       "array([[[0, 1],\n",
       "        [2, 3]],\n",
       "\n",
       "       [[4, 5],\n",
       "        [6, 7]]])"
      ]
     },
     "execution_count": 22,
     "metadata": {},
     "output_type": "execute_result"
    }
   ],
   "source": [
    "array3d"
   ]
  },
  {
   "cell_type": "code",
   "execution_count": 27,
   "id": "e95fbe1a-9df2-40df-b85b-7e95508f4d9b",
   "metadata": {},
   "outputs": [],
   "source": [
    "array5 = array3d.reshape(-1,1) # 2차원으로"
   ]
  },
  {
   "cell_type": "code",
   "execution_count": 25,
   "id": "80e32d91-93c0-4c55-a7e7-803df339efaa",
   "metadata": {},
   "outputs": [
    {
     "data": {
      "text/plain": [
       "array([[0],\n",
       "       [1],\n",
       "       [2],\n",
       "       [3],\n",
       "       [4],\n",
       "       [5],\n",
       "       [6],\n",
       "       [7]])"
      ]
     },
     "execution_count": 25,
     "metadata": {},
     "output_type": "execute_result"
    }
   ],
   "source": [
    "array5"
   ]
  },
  {
   "cell_type": "code",
   "execution_count": null,
   "id": "a3f0f19f-f221-4c28-a133-c3ae38562af0",
   "metadata": {},
   "outputs": [],
   "source": []
  }
 ],
 "metadata": {
  "kernelspec": {
   "display_name": "Python 3 (ipykernel)",
   "language": "python",
   "name": "python3"
  },
  "language_info": {
   "codemirror_mode": {
    "name": "ipython",
    "version": 3
   },
   "file_extension": ".py",
   "mimetype": "text/x-python",
   "name": "python",
   "nbconvert_exporter": "python",
   "pygments_lexer": "ipython3",
   "version": "3.9.7"
  }
 },
 "nbformat": 4,
 "nbformat_minor": 5
}
