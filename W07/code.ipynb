{
 "cells": [
  {
   "cell_type": "code",
   "execution_count": 2,
   "id": "94286e67-4e2b-4a8b-b133-44905171efa3",
   "metadata": {},
   "outputs": [],
   "source": [
    "import numpy as np\n",
    "import pandas as pd\n",
    "import matplotlib.pyplot as plt\n",
    "%matplotlib inline"
   ]
  },
  {
   "cell_type": "code",
   "execution_count": 3,
   "id": "100139c7-2199-433e-b8db-5caf37a620fc",
   "metadata": {},
   "outputs": [],
   "source": [
    "import seaborn as sns"
   ]
  },
  {
   "cell_type": "code",
   "execution_count": 4,
   "id": "b043b330-8fc2-420b-a2e6-cc25c8421d9c",
   "metadata": {},
   "outputs": [],
   "source": [
    "train = pd.read_csv('open/train.csv')\n",
    "test = pd.read_csv('open/test.csv')"
   ]
  },
  {
   "cell_type": "markdown",
   "id": "5215fe43-65ef-4d9a-9fbc-c245660abb89",
   "metadata": {
    "tags": []
   },
   "source": [
    "# EDA & Preprocessing"
   ]
  },
  {
   "cell_type": "code",
   "execution_count": 27,
   "id": "869538ad-7982-49ed-ab1e-39edaf2347e0",
   "metadata": {},
   "outputs": [
    {
     "name": "stdout",
     "output_type": "stream",
     "text": [
      "0\n",
      "0\n",
      "0\n",
      "0\n",
      "0\n",
      "0\n",
      "0\n",
      "0\n",
      "0\n",
      "0\n",
      "0\n",
      "0\n",
      "0\n",
      "0\n",
      "0\n",
      "0\n",
      "8171\n",
      "0\n",
      "0\n",
      "0\n"
     ]
    }
   ],
   "source": [
    "for col in train.columns:\n",
    "    print(train[col].isna().sum())"
   ]
  },
  {
   "cell_type": "code",
   "execution_count": 31,
   "id": "5d8d4fb9-24ea-45e4-b1b3-7a62384b1a21",
   "metadata": {},
   "outputs": [
    {
     "data": {
      "text/plain": [
       "'occyp_type'"
      ]
     },
     "execution_count": 31,
     "metadata": {},
     "output_type": "execute_result"
    }
   ],
   "source": [
    "train.columns[-4]"
   ]
  },
  {
   "cell_type": "markdown",
   "id": "7a4041a6-8e60-488b-b877-1d0e192031f4",
   "metadata": {
    "toc-hr-collapsed": true
   },
   "source": [
    "## gender"
   ]
  },
  {
   "cell_type": "code",
   "execution_count": 5,
   "id": "95eb22ce-fcd9-45c4-9a18-f767e12eb253",
   "metadata": {},
   "outputs": [],
   "source": [
    "def bar_chart(feature):\n",
    "    credit2 = train[train['credit'] == 2][feature].value_counts()\n",
    "    credit1 = train[train['credit'] == 1][feature].value_counts()\n",
    "    credit0 = train[train['credit'] == 0][feature].value_counts()\n",
    "    df = pd.DataFrame([credit2, credit1, credit0])\n",
    "    df.index = ['credit2', 'credit1', 'credit0']\n",
    "    df.plot(kind='bar', stacked= False, figsize=(10,5))\n",
    "    plt.xticks(rotation=0)\n",
    "    plt.show()"
   ]
  },
  {
   "cell_type": "code",
   "execution_count": 6,
   "id": "6ac74c23-aff7-4eaa-8d25-9663830545b2",
   "metadata": {},
   "outputs": [],
   "source": [
    "def bar_chart_T(feature):\n",
    "    credit2 = train[train['credit'] == 2][feature].value_counts()\n",
    "    credit1 = train[train['credit'] == 1][feature].value_counts()\n",
    "    credit0 = train[train['credit'] == 0][feature].value_counts()\n",
    "    df = pd.DataFrame([credit2, credit1, credit0])\n",
    "    df.index = ['credit2', 'credit1', 'credit0']\n",
    "    df.T.plot(kind='bar', stacked= False, figsize=(10,5))\n",
    "    plt.xticks(rotation=0)\n",
    "    plt.show()"
   ]
  },
  {
   "cell_type": "code",
   "execution_count": 7,
   "id": "30ee2112-9a69-404b-8afb-6d92cb617f19",
   "metadata": {},
   "outputs": [],
   "source": [
    "def ratio_by_feature(feature):\n",
    "    for i in train[feature].unique():\n",
    "        print('------ {i} ------'.format(i=i))\n",
    "        print(train[train[feature]==i]['credit'].value_counts() / sum(train[feature]== i))"
   ]
  },
  {
   "cell_type": "code",
   "execution_count": 8,
   "id": "cd39d5bc-440d-44e7-9bee-a7e5eaccfb3b",
   "metadata": {},
   "outputs": [
    {
     "data": {
      "image/png": "[encoded data removed]",
      "text/plain": [
       "<Figure size 720x360 with 1 Axes>"
      ]
     },
     "metadata": {
      "needs_background": "light"
     },
     "output_type": "display_data"
    }
   ],
   "source": [
    "bar_chart('gender')"
   ]
  },
  {
   "cell_type": "code",
   "execution_count": 9,
   "id": "8bb2146d-126c-4cd3-ace8-4647d634ffe3",
   "metadata": {},
   "outputs": [
    {
     "name": "stdout",
     "output_type": "stream",
     "text": [
      "------ F ------\n",
      "2.0    0.640165\n",
      "1.0    0.238458\n",
      "0.0    0.121377\n",
      "Name: credit, dtype: float64\n",
      "------ M ------\n",
      "2.0    0.643721\n",
      "1.0    0.233676\n",
      "0.0    0.122603\n",
      "Name: credit, dtype: float64\n"
     ]
    }
   ],
   "source": [
    "ratio_by_feature('gender')"
   ]
  },
  {
   "cell_type": "markdown",
   "id": "6ce2b81d-79db-425d-ad8b-64fb18854720",
   "metadata": {},
   "source": [
    "## car"
   ]
  },
  {
   "cell_type": "code",
   "execution_count": 11,
   "id": "bc83d4b6-0d29-4412-87bf-c77a8944386c",
   "metadata": {},
   "outputs": [
    {
     "data": {
      "text/plain": [
       "0"
      ]
     },
     "execution_count": 11,
     "metadata": {},
     "output_type": "execute_result"
    }
   ],
   "source": [
    "train.car.isna().sum()"
   ]
  },
  {
   "cell_type": "code",
   "execution_count": 9,
   "id": "cafaea90-0af9-4cbc-af48-26d2e4109ba9",
   "metadata": {},
   "outputs": [
    {
     "data": {
      "text/plain": [
       "N    16410\n",
       "Y    10047\n",
       "Name: car, dtype: int64"
      ]
     },
     "execution_count": 9,
     "metadata": {},
     "output_type": "execute_result"
    }
   ],
   "source": [
    "train.car.value_counts()"
   ]
  },
  {
   "cell_type": "code",
   "execution_count": 10,
   "id": "fbaffced-f11a-4583-98a4-7f813f42c9e9",
   "metadata": {},
   "outputs": [
    {
     "data": {
      "image/png": "[encoded data removed]",
      "text/plain": [
       "<Figure size 720x360 with 1 Axes>"
      ]
     },
     "metadata": {
      "needs_background": "light"
     },
     "output_type": "display_data"
    }
   ],
   "source": [
    "bar_chart('car')"
   ]
  },
  {
   "cell_type": "code",
   "execution_count": 11,
   "id": "eead45c8-fb99-46b2-8f9a-f6c4612f6945",
   "metadata": {},
   "outputs": [
    {
     "name": "stdout",
     "output_type": "stream",
     "text": [
      "------ N ------\n",
      "2.0    0.636076\n",
      "1.0    0.243144\n",
      "0.0    0.120780\n",
      "Name: credit, dtype: float64\n",
      "------ Y ------\n",
      "2.0    0.649945\n",
      "1.0    0.226635\n",
      "0.0    0.123420\n",
      "Name: credit, dtype: float64\n"
     ]
    }
   ],
   "source": [
    "ratio_by_feature('car')"
   ]
  },
  {
   "cell_type": "markdown",
   "id": "3ab2c63b-ca4f-4428-af55-a6fe10603685",
   "metadata": {},
   "source": [
    "## reality"
   ]
  },
  {
   "cell_type": "code",
   "execution_count": 15,
   "id": "1338341a-2193-4c36-9ba7-0dac143863f1",
   "metadata": {},
   "outputs": [
    {
     "data": {
      "text/plain": [
       "0"
      ]
     },
     "execution_count": 15,
     "metadata": {},
     "output_type": "execute_result"
    }
   ],
   "source": [
    "train.reality.isna().sum()"
   ]
  },
  {
   "cell_type": "code",
   "execution_count": 12,
   "id": "d0af4e40-e3de-468c-a8e9-78a3d5d2b5f3",
   "metadata": {},
   "outputs": [
    {
     "data": {
      "text/plain": [
       "Y    17830\n",
       "N     8627\n",
       "Name: reality, dtype: int64"
      ]
     },
     "execution_count": 12,
     "metadata": {},
     "output_type": "execute_result"
    }
   ],
   "source": [
    "train.reality.value_counts()"
   ]
  },
  {
   "cell_type": "code",
   "execution_count": 12,
   "id": "8b8e73a1-64cc-4d0e-8686-7f377250d04d",
   "metadata": {},
   "outputs": [
    {
     "data": {
      "image/png": "[encoded data removed]",
      "text/plain": [
       "<Figure size 720x360 with 1 Axes>"
      ]
     },
     "metadata": {
      "needs_background": "light"
     },
     "output_type": "display_data"
    }
   ],
   "source": [
    "bar_chart('reality')"
   ]
  },
  {
   "cell_type": "code",
   "execution_count": 13,
   "id": "25f507f2-95dc-43fe-a8dd-e7b0ea252440",
   "metadata": {},
   "outputs": [
    {
     "name": "stdout",
     "output_type": "stream",
     "text": [
      "------ N ------\n",
      "2.0    0.652370\n",
      "1.0    0.224296\n",
      "0.0    0.123334\n",
      "Name: credit, dtype: float64\n",
      "------ Y ------\n",
      "2.0    0.636007\n",
      "1.0    0.242961\n",
      "0.0    0.121032\n",
      "Name: credit, dtype: float64\n"
     ]
    }
   ],
   "source": [
    "ratio_by_feature('reality')"
   ]
  },
  {
   "cell_type": "markdown",
   "id": "aea55d6c-c77e-442a-bf2f-4a9d91531700",
   "metadata": {},
   "source": [
    "## child_num"
   ]
  },
  {
   "cell_type": "code",
   "execution_count": 18,
   "id": "6ccb515f-7c46-49cb-be07-617bcc158627",
   "metadata": {},
   "outputs": [
    {
     "data": {
      "text/plain": [
       "0"
      ]
     },
     "execution_count": 18,
     "metadata": {},
     "output_type": "execute_result"
    }
   ],
   "source": [
    "train.child_num.isna().sum()"
   ]
  },
  {
   "cell_type": "code",
   "execution_count": 15,
   "id": "0e391145-2bdc-4569-8736-5c1dcfd2f067",
   "metadata": {},
   "outputs": [
    {
     "data": {
      "text/plain": [
       "0     18340\n",
       "1      5386\n",
       "2      2362\n",
       "3       306\n",
       "4        47\n",
       "5        10\n",
       "14        3\n",
       "7         2\n",
       "19        1\n",
       "Name: child_num, dtype: int64"
      ]
     },
     "execution_count": 15,
     "metadata": {},
     "output_type": "execute_result"
    }
   ],
   "source": [
    "train.child_num.value_counts()\n",
    "\n"
   ]
  },
  {
   "cell_type": "code",
   "execution_count": 16,
   "id": "10969e47-e601-46e5-9ad0-52b011731750",
   "metadata": {},
   "outputs": [
    {
     "name": "stdout",
     "output_type": "stream",
     "text": [
      "------ 0 ------\n",
      "2.0    0.642585\n",
      "1.0    0.235660\n",
      "0.0    0.121756\n",
      "Name: credit, dtype: float64\n",
      "------ 1 ------\n",
      "2.0    0.629595\n",
      "1.0    0.243780\n",
      "0.0    0.126625\n",
      "Name: credit, dtype: float64\n",
      "------ 2 ------\n",
      "2.0    0.660034\n",
      "1.0    0.226503\n",
      "0.0    0.113463\n",
      "Name: credit, dtype: float64\n",
      "------ 3 ------\n",
      "2.0    0.647059\n",
      "1.0    0.258170\n",
      "0.0    0.094771\n",
      "Name: credit, dtype: float64\n",
      "------ 4 ------\n",
      "2.0    0.574468\n",
      "1.0    0.255319\n",
      "0.0    0.170213\n",
      "Name: credit, dtype: float64\n",
      "------ 5 ------\n",
      "1.0    0.6\n",
      "2.0    0.2\n",
      "0.0    0.2\n",
      "Name: credit, dtype: float64\n",
      "------ 14 ------\n",
      "2.0    1.0\n",
      "Name: credit, dtype: float64\n",
      "------ 19 ------\n",
      "2.0    1.0\n",
      "Name: credit, dtype: float64\n",
      "------ 7 ------\n",
      "2.0    1.0\n",
      "Name: credit, dtype: float64\n"
     ]
    }
   ],
   "source": [
    "ratio_by_feature('child_num')"
   ]
  },
  {
   "cell_type": "markdown",
   "id": "bd41e60c-38cb-414c-84a4-7246695d12c8",
   "metadata": {},
   "source": [
    "- `child_num` $\\geq 7 \\to $ **drop** "
   ]
  },
  {
   "cell_type": "code",
   "execution_count": 19,
   "id": "6b9c74e7-7812-4bdf-9c07-70e2e475040e",
   "metadata": {},
   "outputs": [
    {
     "data": {
      "text/plain": [
       "0    18340\n",
       "1     5386\n",
       "2     2362\n",
       "3      306\n",
       "4       47\n",
       "5       10\n",
       "Name: child_num, dtype: int64"
      ]
     },
     "execution_count": 19,
     "metadata": {},
     "output_type": "execute_result"
    }
   ],
   "source": [
    "train = train[train['child_num'] < 6]\n",
    "train.child_num.value_counts()"
   ]
  },
  {
   "cell_type": "markdown",
   "id": "ee9f5fe6-55a5-40a3-ac72-abc0e4946157",
   "metadata": {},
   "source": [
    "## income_total"
   ]
  },
  {
   "cell_type": "code",
   "execution_count": 20,
   "id": "80e7d6b5-cd5a-4545-ad19-ed8507d005cb",
   "metadata": {},
   "outputs": [
    {
     "data": {
      "text/plain": [
       "0"
      ]
     },
     "execution_count": 20,
     "metadata": {},
     "output_type": "execute_result"
    }
   ],
   "source": [
    "train.income_total.isna().sum()"
   ]
  },
  {
   "cell_type": "code",
   "execution_count": 22,
   "id": "73a51c85-f1f7-4898-bf6b-d146d2866f78",
   "metadata": {},
   "outputs": [
    {
     "data": {
      "text/plain": [
       "0        202500.0\n",
       "1        247500.0\n",
       "2        450000.0\n",
       "3        202500.0\n",
       "4        157500.0\n",
       "           ...   \n",
       "26452    225000.0\n",
       "26453    180000.0\n",
       "26454    292500.0\n",
       "26455    171000.0\n",
       "26456     81000.0\n",
       "Name: income_total, Length: 26451, dtype: float64"
      ]
     },
     "execution_count": 22,
     "metadata": {},
     "output_type": "execute_result"
    }
   ],
   "source": [
    "train.income_total"
   ]
  },
  {
   "cell_type": "code",
   "execution_count": 18,
   "id": "377d2cce-e393-4b4c-bbad-e0c10d1d9868",
   "metadata": {},
   "outputs": [
    {
     "data": {
      "text/plain": [
       "<AxesSubplot:>"
      ]
     },
     "execution_count": 18,
     "metadata": {},
     "output_type": "execute_result"
    },
    {
     "data": {
      "image/png": "[encoded data removed]",
      "text/plain": [
       "<Figure size 720x360 with 1 Axes>"
      ]
     },
     "metadata": {
      "needs_background": "light"
     },
     "output_type": "display_data"
    }
   ],
   "source": [
    "train.income_total.hist(figsize=(10,5))"
   ]
  },
  {
   "cell_type": "markdown",
   "id": "1bf77f3c-47e4-4006-85e0-1f34d01f6bbe",
   "metadata": {},
   "source": [
    "## income_type"
   ]
  },
  {
   "cell_type": "code",
   "execution_count": 22,
   "id": "b48eb9e1-a5a8-4e0e-a4d3-67c4fb22fa30",
   "metadata": {},
   "outputs": [
    {
     "data": {
      "text/plain": [
       "Working                 13639\n",
       "Commercial associate     6202\n",
       "Pensioner                4449\n",
       "State servant            2154\n",
       "Student                     7\n",
       "Name: income_type, dtype: int64"
      ]
     },
     "execution_count": 22,
     "metadata": {},
     "output_type": "execute_result"
    }
   ],
   "source": [
    "train.income_type.value_counts()"
   ]
  },
  {
   "cell_type": "code",
   "execution_count": 23,
   "id": "720c8d8e-83e7-42ff-b126-d0828bcf4a8f",
   "metadata": {},
   "outputs": [
    {
     "data": {
      "image/png": "[encoded data removed]",
      "text/plain": [
       "<Figure size 720x360 with 1 Axes>"
      ]
     },
     "metadata": {
      "needs_background": "light"
     },
     "output_type": "display_data"
    }
   ],
   "source": [
    "bar_chart('income_type')"
   ]
  },
  {
   "cell_type": "code",
   "execution_count": 24,
   "id": "c3e178e0-7b5c-4966-bfc8-eb62f315fa6d",
   "metadata": {},
   "outputs": [
    {
     "name": "stdout",
     "output_type": "stream",
     "text": [
      "------ Commercial associate ------\n",
      "2.0    0.657207\n",
      "1.0    0.216704\n",
      "0.0    0.126088\n",
      "Name: credit, dtype: float64\n",
      "------ Working ------\n",
      "2.0    0.634431\n",
      "1.0    0.245399\n",
      "0.0    0.120170\n",
      "Name: credit, dtype: float64\n",
      "------ State servant ------\n",
      "2.0    0.649954\n",
      "1.0    0.227019\n",
      "0.0    0.123027\n",
      "Name: credit, dtype: float64\n",
      "------ Pensioner ------\n",
      "2.0    0.635873\n",
      "1.0    0.243650\n",
      "0.0    0.120477\n",
      "Name: credit, dtype: float64\n",
      "------ Student ------\n",
      "2.0    0.571429\n",
      "1.0    0.428571\n",
      "Name: credit, dtype: float64\n"
     ]
    }
   ],
   "source": [
    "ratio_by_feature('income_type')"
   ]
  },
  {
   "cell_type": "markdown",
   "id": "85f6b182-4373-424b-a2c6-d996e136bd37",
   "metadata": {},
   "source": [
    "## edu_type"
   ]
  },
  {
   "cell_type": "code",
   "execution_count": 25,
   "id": "bcbd3df5-1904-43d7-8761-ed6b2ccc4867",
   "metadata": {},
   "outputs": [
    {
     "data": {
      "text/plain": [
       "Secondary / secondary special    17989\n",
       "Higher education                  7162\n",
       "Incomplete higher                 1020\n",
       "Lower secondary                    257\n",
       "Academic degree                     23\n",
       "Name: edu_type, dtype: int64"
      ]
     },
     "execution_count": 25,
     "metadata": {},
     "output_type": "execute_result"
    }
   ],
   "source": [
    "train.edu_type.value_counts()"
   ]
  },
  {
   "cell_type": "code",
   "execution_count": 26,
   "id": "4137403c-7a65-42dd-b1b1-269631f61d9e",
   "metadata": {},
   "outputs": [
    {
     "data": {
      "image/png": "[encoded data removed]",
      "text/plain": [
       "<Figure size 720x360 with 1 Axes>"
      ]
     },
     "metadata": {
      "needs_background": "light"
     },
     "output_type": "display_data"
    }
   ],
   "source": [
    "bar_chart('edu_type')"
   ]
  },
  {
   "cell_type": "code",
   "execution_count": 27,
   "id": "4aba6313-9cb2-4db4-8313-a5fe06553fe5",
   "metadata": {},
   "outputs": [
    {
     "name": "stdout",
     "output_type": "stream",
     "text": [
      "------ Higher education ------\n",
      "2.0    0.628595\n",
      "1.0    0.244485\n",
      "0.0    0.126920\n",
      "Name: credit, dtype: float64\n",
      "------ Secondary / secondary special ------\n",
      "2.0    0.645728\n",
      "1.0    0.233698\n",
      "0.0    0.120574\n",
      "Name: credit, dtype: float64\n",
      "------ Incomplete higher ------\n",
      "2.0    0.647059\n",
      "1.0    0.241176\n",
      "0.0    0.111765\n",
      "Name: credit, dtype: float64\n",
      "------ Lower secondary ------\n",
      "2.0    0.661479\n",
      "1.0    0.229572\n",
      "0.0    0.108949\n",
      "Name: credit, dtype: float64\n",
      "------ Academic degree ------\n",
      "2.0    0.608696\n",
      "1.0    0.304348\n",
      "0.0    0.086957\n",
      "Name: credit, dtype: float64\n"
     ]
    }
   ],
   "source": [
    "ratio_by_feature('edu_type')"
   ]
  },
  {
   "cell_type": "markdown",
   "id": "4e06a46c-8b68-45f3-95bc-abcae22fc44e",
   "metadata": {},
   "source": [
    "## family_type"
   ]
  },
  {
   "cell_type": "code",
   "execution_count": 28,
   "id": "c3293a42-3852-4296-a4fd-0fbcf908f8bb",
   "metadata": {},
   "outputs": [
    {
     "data": {
      "text/plain": [
       "Married                 18194\n",
       "Single / not married     3495\n",
       "Civil marriage           2123\n",
       "Separated                1536\n",
       "Widow                    1103\n",
       "Name: family_type, dtype: int64"
      ]
     },
     "execution_count": 28,
     "metadata": {},
     "output_type": "execute_result"
    }
   ],
   "source": [
    "train.family_type.value_counts()"
   ]
  },
  {
   "cell_type": "code",
   "execution_count": 29,
   "id": "afe4bdb2-9a0d-4cc4-88a8-1815c6c15c84",
   "metadata": {},
   "outputs": [
    {
     "data": {
      "image/png": "[encoded data removed]",
      "text/plain": [
       "<Figure size 720x360 with 1 Axes>"
      ]
     },
     "metadata": {
      "needs_background": "light"
     },
     "output_type": "display_data"
    }
   ],
   "source": [
    "bar_chart_T('family_type')"
   ]
  },
  {
   "cell_type": "code",
   "execution_count": 30,
   "id": "6cd8f549-2aff-45dd-8427-b0d998370aab",
   "metadata": {},
   "outputs": [
    {
     "name": "stdout",
     "output_type": "stream",
     "text": [
      "------ Married ------\n",
      "2.0    0.650819\n",
      "1.0    0.227548\n",
      "0.0    0.121634\n",
      "Name: credit, dtype: float64\n",
      "------ Civil marriage ------\n",
      "2.0    0.610457\n",
      "1.0    0.253886\n",
      "0.0    0.135657\n",
      "Name: credit, dtype: float64\n",
      "------ Separated ------\n",
      "2.0    0.647135\n",
      "1.0    0.227214\n",
      "0.0    0.125651\n",
      "Name: credit, dtype: float64\n",
      "------ Single / not married ------\n",
      "2.0    0.616023\n",
      "1.0    0.268956\n",
      "0.0    0.115021\n",
      "Name: credit, dtype: float64\n",
      "------ Widow ------\n",
      "2.0    0.614687\n",
      "1.0    0.271079\n",
      "0.0    0.114234\n",
      "Name: credit, dtype: float64\n"
     ]
    }
   ],
   "source": [
    "ratio_by_feature('family_type')"
   ]
  },
  {
   "cell_type": "markdown",
   "id": "16987822-b868-4263-873b-69b753cfbb92",
   "metadata": {},
   "source": [
    "## house_type"
   ]
  },
  {
   "cell_type": "code",
   "execution_count": 31,
   "id": "534fb624-843c-40e0-b9bd-9c4bab18586d",
   "metadata": {},
   "outputs": [
    {
     "data": {
      "text/plain": [
       "House / apartment      23647\n",
       "With parents            1257\n",
       "Municipal apartment      818\n",
       "Rented apartment         429\n",
       "Office apartment         190\n",
       "Co-op apartment          110\n",
       "Name: house_type, dtype: int64"
      ]
     },
     "execution_count": 31,
     "metadata": {},
     "output_type": "execute_result"
    }
   ],
   "source": [
    "train.house_type.value_counts()"
   ]
  },
  {
   "cell_type": "code",
   "execution_count": 32,
   "id": "18a3a794-1c0c-418c-b6ea-3893a579178a",
   "metadata": {},
   "outputs": [
    {
     "data": {
      "image/png": "[encoded data removed]",
      "text/plain": [
       "<Figure size 720x360 with 1 Axes>"
      ]
     },
     "metadata": {
      "needs_background": "light"
     },
     "output_type": "display_data"
    }
   ],
   "source": [
    "bar_chart('house_type')"
   ]
  },
  {
   "cell_type": "code",
   "execution_count": 33,
   "id": "9a67b936-afea-4789-854f-83ae607b56eb",
   "metadata": {},
   "outputs": [
    {
     "name": "stdout",
     "output_type": "stream",
     "text": [
      "------ Municipal apartment ------\n",
      "2.0    0.669927\n",
      "1.0    0.195599\n",
      "0.0    0.134474\n",
      "Name: credit, dtype: float64\n",
      "------ House / apartment ------\n",
      "2.0    0.642999\n",
      "1.0    0.235506\n",
      "0.0    0.121495\n",
      "Name: credit, dtype: float64\n",
      "------ With parents ------\n",
      "2.0    0.630867\n",
      "1.0    0.249006\n",
      "0.0    0.120127\n",
      "Name: credit, dtype: float64\n",
      "------ Co-op apartment ------\n",
      "2.0    0.600000\n",
      "1.0    0.272727\n",
      "0.0    0.127273\n",
      "Name: credit, dtype: float64\n",
      "------ Rented apartment ------\n",
      "2.0    0.540793\n",
      "1.0    0.342657\n",
      "0.0    0.116550\n",
      "Name: credit, dtype: float64\n",
      "------ Office apartment ------\n",
      "2.0    0.621053\n",
      "1.0    0.252632\n",
      "0.0    0.126316\n",
      "Name: credit, dtype: float64\n"
     ]
    }
   ],
   "source": [
    "ratio_by_feature('house_type')"
   ]
  },
  {
   "cell_type": "markdown",
   "id": "047c6a15-28c8-44bf-b9db-2e066fa71b0c",
   "metadata": {},
   "source": [
    "## DAYS_BIRTH"
   ]
  },
  {
   "cell_type": "code",
   "execution_count": 38,
   "id": "d08c5974-4f84-4d58-92f9-bdeebf2f681e",
   "metadata": {},
   "outputs": [
    {
     "data": {
      "text/plain": [
       "<AxesSubplot:>"
      ]
     },
     "execution_count": 38,
     "metadata": {},
     "output_type": "execute_result"
    },
    {
     "data": {
      "image/png": "[encoded data removed]",
      "text/plain": [
       "<Figure size 432x288 with 1 Axes>"
      ]
     },
     "metadata": {
      "needs_background": "light"
     },
     "output_type": "display_data"
    }
   ],
   "source": [
    "train.DAYS_BIRTH.hist()"
   ]
  },
  {
   "cell_type": "markdown",
   "id": "efa31e09-aac2-4fba-ba11-ed1b792acf60",
   "metadata": {},
   "source": [
    "## DAYS_EMPLOYED"
   ]
  },
  {
   "cell_type": "code",
   "execution_count": 46,
   "id": "8141edaf-7a12-40ff-841a-1dac729479cc",
   "metadata": {},
   "outputs": [
    {
     "data": {
      "image/png": "[encoded data removed]",
      "text/plain": [
       "<Figure size 432x288 with 1 Axes>"
      ]
     },
     "metadata": {
      "needs_background": "light"
     },
     "output_type": "display_data"
    }
   ],
   "source": [
    "plt.boxplot(train.DAYS_EMPLOYED)\n",
    "plt.show()"
   ]
  },
  {
   "cell_type": "code",
   "execution_count": 63,
   "id": "7d96860a-5aa2-4411-b75e-81718ddbe4be",
   "metadata": {},
   "outputs": [
    {
     "data": {
      "text/plain": [
       "<AxesSubplot:>"
      ]
     },
     "execution_count": 63,
     "metadata": {},
     "output_type": "execute_result"
    },
    {
     "data": {
      "image/png": "[encoded data removed]",
      "text/plain": [
       "<Figure size 432x288 with 1 Axes>"
      ]
     },
     "metadata": {
      "needs_background": "light"
     },
     "output_type": "display_data"
    }
   ],
   "source": [
    "train.DAYS_EMPLOYED.hist()"
   ]
  },
  {
   "cell_type": "markdown",
   "id": "baf6f8ee-9d0d-424f-9a80-3935f2d04cdc",
   "metadata": {},
   "source": [
    "- 백수는 양수"
   ]
  },
  {
   "cell_type": "markdown",
   "id": "ad00fe55-4bfe-4267-b568-fe481fb9eaa0",
   "metadata": {},
   "source": [
    "## FLAG_MOBIL"
   ]
  },
  {
   "cell_type": "code",
   "execution_count": 80,
   "id": "acff7b82-1c0c-4b23-8635-ff555728ef0c",
   "metadata": {},
   "outputs": [
    {
     "data": {
      "text/plain": [
       "1    26451\n",
       "Name: FLAG_MOBIL, dtype: int64"
      ]
     },
     "execution_count": 80,
     "metadata": {},
     "output_type": "execute_result"
    }
   ],
   "source": [
    "train.FLAG_MOBIL.value_counts()"
   ]
  },
  {
   "cell_type": "code",
   "execution_count": 81,
   "id": "a636a5e0-4080-42d3-bd72-d088e030fa7f",
   "metadata": {},
   "outputs": [
    {
     "data": {
      "text/plain": [
       "1    10000\n",
       "Name: FLAG_MOBIL, dtype: int64"
      ]
     },
     "execution_count": 81,
     "metadata": {},
     "output_type": "execute_result"
    }
   ],
   "source": [
    "test.FLAG_MOBIL.value_counts()"
   ]
  },
  {
   "cell_type": "markdown",
   "id": "c2cec1b8-c6e1-48d8-92fc-ad2c7610d881",
   "metadata": {},
   "source": [
    "- 모든 데이터에서 동일한 값이므로 해당 피쳐는 드랍한다."
   ]
  },
  {
   "cell_type": "code",
   "execution_count": 83,
   "id": "9cc704a6-c940-4db0-bc24-3dd0a630e11f",
   "metadata": {},
   "outputs": [],
   "source": [
    "train = train.drop('FLAG_MOBIL', axis = 1)"
   ]
  },
  {
   "cell_type": "markdown",
   "id": "12b77776-7a79-492f-8907-abc5b084f8f6",
   "metadata": {},
   "source": [
    "## work_phone"
   ]
  },
  {
   "cell_type": "code",
   "execution_count": 85,
   "id": "618d1c3e-7833-43d7-847f-8daafdcf184c",
   "metadata": {},
   "outputs": [
    {
     "data": {
      "text/plain": [
       "0    20508\n",
       "1     5943\n",
       "Name: work_phone, dtype: int64"
      ]
     },
     "execution_count": 85,
     "metadata": {},
     "output_type": "execute_result"
    }
   ],
   "source": [
    "train.work_phone.value_counts()"
   ]
  },
  {
   "cell_type": "code",
   "execution_count": 90,
   "id": "7e3c1038-6580-4c2a-8a72-fc632f6edd8c",
   "metadata": {},
   "outputs": [
    {
     "name": "stdout",
     "output_type": "stream",
     "text": [
      "------ 0 ------\n",
      "2.0    0.642237\n",
      "1.0    0.236201\n",
      "0.0    0.121562\n",
      "Name: credit, dtype: float64\n",
      "------ 1 ------\n",
      "2.0    0.637893\n",
      "1.0    0.239441\n",
      "0.0    0.122665\n",
      "Name: credit, dtype: float64\n"
     ]
    }
   ],
   "source": [
    "ratio_by_feature('work_phone')"
   ]
  },
  {
   "cell_type": "markdown",
   "id": "86fa3a89-ee2b-4ca1-b059-1a10c5694c2a",
   "metadata": {},
   "source": [
    "## phone"
   ]
  },
  {
   "cell_type": "code",
   "execution_count": 92,
   "id": "fc3077e8-3e9a-493c-952a-e1c8bc66aa6c",
   "metadata": {},
   "outputs": [
    {
     "data": {
      "text/plain": [
       "0    18669\n",
       "1     7782\n",
       "Name: phone, dtype: int64"
      ]
     },
     "execution_count": 92,
     "metadata": {},
     "output_type": "execute_result"
    }
   ],
   "source": [
    "train.phone.value_counts()"
   ]
  },
  {
   "cell_type": "code",
   "execution_count": 93,
   "id": "48810119-d2f9-4883-8a33-b1e113273574",
   "metadata": {},
   "outputs": [
    {
     "name": "stdout",
     "output_type": "stream",
     "text": [
      "------ 0 ------\n",
      "2.0    0.638170\n",
      "1.0    0.241577\n",
      "0.0    0.120253\n",
      "Name: credit, dtype: float64\n",
      "------ 1 ------\n",
      "2.0    0.648676\n",
      "1.0    0.225777\n",
      "0.0    0.125546\n",
      "Name: credit, dtype: float64\n"
     ]
    }
   ],
   "source": [
    "ratio_by_feature('phone')"
   ]
  },
  {
   "cell_type": "markdown",
   "id": "198187ea-a17d-442b-bcad-01aa2ce4b033",
   "metadata": {},
   "source": [
    "## email"
   ]
  },
  {
   "cell_type": "code",
   "execution_count": 95,
   "id": "31e74e48-4d06-4da3-a801-485b46bb161e",
   "metadata": {},
   "outputs": [
    {
     "data": {
      "text/plain": [
       "0    24036\n",
       "1     2415\n",
       "Name: email, dtype: int64"
      ]
     },
     "execution_count": 95,
     "metadata": {},
     "output_type": "execute_result"
    }
   ],
   "source": [
    "train.email.value_counts()"
   ]
  },
  {
   "cell_type": "markdown",
   "id": "b03cb75e-6502-43d7-a0d8-c0976f7e7fa8",
   "metadata": {},
   "source": [
    "## occyp_type"
   ]
  },
  {
   "cell_type": "code",
   "execution_count": 100,
   "id": "f77a4b5c-94df-4ee0-bf11-e9c56c44a9ee",
   "metadata": {},
   "outputs": [
    {
     "data": {
      "text/plain": [
       "8171"
      ]
     },
     "execution_count": 100,
     "metadata": {},
     "output_type": "execute_result"
    }
   ],
   "source": [
    "train.occyp_type.isna().sum()"
   ]
  },
  {
   "cell_type": "code",
   "execution_count": 97,
   "id": "06e1ae3c-3023-4771-a16b-7e8f6aaa7fb0",
   "metadata": {},
   "outputs": [
    {
     "data": {
      "text/plain": [
       "Laborers                 4512\n",
       "Core staff               2646\n",
       "Sales staff              2539\n",
       "Managers                 2167\n",
       "Drivers                  1572\n",
       "High skill tech staff    1040\n",
       "Accountants               902\n",
       "Medicine staff            864\n",
       "Cooking staff             457\n",
       "Security staff            424\n",
       "Cleaning staff            401\n",
       "Private service staff     243\n",
       "Low-skill Laborers        127\n",
       "Waiters/barmen staff      123\n",
       "Secretaries                97\n",
       "Realty agents              63\n",
       "HR staff                   62\n",
       "IT staff                   41\n",
       "Name: occyp_type, dtype: int64"
      ]
     },
     "execution_count": 97,
     "metadata": {},
     "output_type": "execute_result"
    }
   ],
   "source": [
    "train.occyp_type.value_counts()"
   ]
  },
  {
   "cell_type": "code",
   "execution_count": 33,
   "id": "d29c682c-9ad2-4918-923f-429bcd1f268e",
   "metadata": {},
   "outputs": [
    {
     "data": {
      "text/plain": [
       "0                  None\n",
       "1              Laborers\n",
       "2              Managers\n",
       "3           Sales staff\n",
       "4              Managers\n",
       "              ...      \n",
       "26452        Core staff\n",
       "26453              None\n",
       "26454        Core staff\n",
       "26455          Laborers\n",
       "26456    Security staff\n",
       "Name: occyp_type, Length: 26451, dtype: object"
      ]
     },
     "execution_count": 33,
     "metadata": {},
     "output_type": "execute_result"
    }
   ],
   "source": [
    "train.occyp_type.fillna('None')"
   ]
  },
  {
   "cell_type": "markdown",
   "id": "9f200304-c962-4b1f-801f-de87229aab16",
   "metadata": {},
   "source": [
    "- **NA $\\to$ 백수?**\n",
    "\n",
    "- **NA $\\to$ None**"
   ]
  },
  {
   "cell_type": "markdown",
   "id": "6f07eb68-4eef-46cd-8c7a-d8be8bc9938d",
   "metadata": {},
   "source": [
    "## family_size"
   ]
  },
  {
   "cell_type": "code",
   "execution_count": 42,
   "id": "9c305cc8-6b61-4781-8890-170ecbd30b54",
   "metadata": {},
   "outputs": [
    {
     "data": {
      "text/plain": [
       "2.0    14106\n",
       "1.0     5109\n",
       "3.0     4632\n",
       "4.0     2260\n",
       "5.0      291\n",
       "6.0       44\n",
       "7.0        9\n",
       "Name: family_size, dtype: int64"
      ]
     },
     "execution_count": 42,
     "metadata": {},
     "output_type": "execute_result"
    }
   ],
   "source": [
    "train.family_size.value_counts()"
   ]
  },
  {
   "cell_type": "markdown",
   "id": "462371d1-04ba-4a67-afef-96685367123a",
   "metadata": {},
   "source": [
    "## begin_month"
   ]
  },
  {
   "cell_type": "code",
   "execution_count": 45,
   "id": "2e092348-ebb1-4fd5-bb2c-bcb25aa21783",
   "metadata": {},
   "outputs": [
    {
     "data": {
      "text/plain": [
       "0        -6.0\n",
       "1        -5.0\n",
       "2       -22.0\n",
       "3       -37.0\n",
       "4       -26.0\n",
       "         ... \n",
       "26452    -2.0\n",
       "26453   -47.0\n",
       "26454   -25.0\n",
       "26455   -59.0\n",
       "26456    -9.0\n",
       "Name: begin_month, Length: 26451, dtype: float64"
      ]
     },
     "execution_count": 45,
     "metadata": {},
     "output_type": "execute_result"
    }
   ],
   "source": [
    "train.begin_month"
   ]
  },
  {
   "cell_type": "code",
   "execution_count": 44,
   "id": "ca77cc33-f599-498b-bb79-7d776f2e6478",
   "metadata": {},
   "outputs": [
    {
     "data": {
      "text/plain": [
       "<AxesSubplot:>"
      ]
     },
     "execution_count": 44,
     "metadata": {},
     "output_type": "execute_result"
    },
    {
     "data": {
      "image/png": "[encoded data removed]",
      "text/plain": [
       "<Figure size 432x288 with 1 Axes>"
      ]
     },
     "metadata": {
      "needs_background": "light"
     },
     "output_type": "display_data"
    }
   ],
   "source": [
    "train.begin_month.hist()"
   ]
  },
  {
   "cell_type": "code",
   "execution_count": 50,
   "id": "3601c0bd-ef29-4368-a155-12058bdcec4f",
   "metadata": {},
   "outputs": [
    {
     "data": {
      "image/png": "[encoded data removed]",
      "text/plain": [
       "<Figure size 432x288 with 1 Axes>"
      ]
     },
     "metadata": {
      "needs_background": "light"
     },
     "output_type": "display_data"
    }
   ],
   "source": [
    "plt.boxplot(train.begin_month)\n",
    "plt.show()"
   ]
  },
  {
   "cell_type": "markdown",
   "id": "d83e658e-f71a-44fb-82b4-6958ef04a52d",
   "metadata": {},
   "source": [
    "## credit"
   ]
  },
  {
   "cell_type": "code",
   "execution_count": 53,
   "id": "8ec7d423-6f09-4804-a0fe-262c28809927",
   "metadata": {},
   "outputs": [
    {
     "data": {
      "text/plain": [
       "2.0    16962\n",
       "1.0     6267\n",
       "0.0     3222\n",
       "Name: credit, dtype: int64"
      ]
     },
     "execution_count": 53,
     "metadata": {},
     "output_type": "execute_result"
    }
   ],
   "source": [
    "train.credit.value_counts()"
   ]
  },
  {
   "cell_type": "code",
   "execution_count": 47,
   "id": "05ba2f90-98d7-49ec-9e51-6e4640a3fcd3",
   "metadata": {},
   "outputs": [
    {
     "data": {
      "text/plain": [
       "Index(['index', 'gender', 'car', 'reality', 'child_num', 'income_total',\n",
       "       'income_type', 'edu_type', 'family_type', 'house_type', 'DAYS_BIRTH',\n",
       "       'DAYS_EMPLOYED', 'FLAG_MOBIL', 'work_phone', 'phone', 'email',\n",
       "       'occyp_type', 'family_size', 'begin_month', 'credit'],\n",
       "      dtype='object')"
      ]
     },
     "execution_count": 47,
     "metadata": {},
     "output_type": "execute_result"
    }
   ],
   "source": [
    "train.columns"
   ]
  }
 ],
 "metadata": {
  "kernelspec": {
   "display_name": "Python 3 (ipykernel)",
   "language": "python",
   "name": "python3"
  },
  "language_info": {
   "codemirror_mode": {
    "name": "ipython",
    "version": 3
   },
   "file_extension": ".py",
   "mimetype": "text/x-python",
   "name": "python",
   "nbconvert_exporter": "python",
   "pygments_lexer": "ipython3",
   "version": "3.9.7"
  }
 },
 "nbformat": 4,
 "nbformat_minor": 5
}
