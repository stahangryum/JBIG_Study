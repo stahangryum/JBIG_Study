{
 "cells": [
  {
   "cell_type": "markdown",
   "id": "cffa2295-dc57-48d4-9d57-db2c4acc67ad",
   "metadata": {},
   "source": [
    "# 평가"
   ]
  },
  {
   "cell_type": "markdown",
   "id": "cfdbc56a-4c20-4dbe-980c-a25ae41ea854",
   "metadata": {},
   "source": [
    "분류의 성능 평가 지표\n",
    "\n",
    "- 정확도\n",
    "\n",
    "- 오차행렬\n",
    "\n",
    "- 정밀도\n",
    "\n",
    "- 재현율\n",
    "\n",
    "- F1 스코어\n",
    "\n",
    "- ROC AUC"
   ]
  },
  {
   "cell_type": "markdown",
   "id": "4d21d41a-0b99-4439-a749-b23726f5014d",
   "metadata": {},
   "source": [
    "## ref. W02"
   ]
  },
  {
   "cell_type": "code",
   "execution_count": 1,
   "id": "99ca9952-5a8c-4b81-b2c3-745bb926a683",
   "metadata": {},
   "outputs": [],
   "source": [
    "from sklearn import preprocessing"
   ]
  },
  {
   "cell_type": "code",
   "execution_count": 2,
   "id": "13bf608e-9028-4e5d-833c-24d390d467fc",
   "metadata": {},
   "outputs": [],
   "source": [
    "# 결측값 처리\n",
    "def fillna(df):\n",
    "    df['Age'].fillna(df['Age'].mean(), inplace=True)\n",
    "    df['Cabin'].fillna('N', inplace=True)\n",
    "    df['Embarked'].fillna('N', inplace=True)\n",
    "    df['Fare'].fillna(0, inplace=True)\n",
    "    return df\n",
    "\n",
    "# 불필요한 속성 제거\n",
    "def drop_features(df):\n",
    "    df.drop(['PassengerId', 'Name', 'Ticket',], axis=1, inplace=True)\n",
    "    return df\n",
    "\n",
    "# 레이블인코딩 수행\n",
    "def format_features(df):\n",
    "    df['Cabin'] = df['Cabin'].str[:1]\n",
    "    features = ['Cabin', 'Sex', 'Embarked']\n",
    "    for feature in features:\n",
    "        le = preprocessing.LabelEncoder()\n",
    "        le = le.fit(df[feature])\n",
    "        df[feature] = le.transform(df[feature])\n",
    "    return df\n",
    "\n",
    "# 앞에서 설정한 데이터 전처리 함수 호출\n",
    "def transform_features(df):\n",
    "    df = fillna(df)\n",
    "    df = drop_features(df)\n",
    "    df = format_features(df)\n",
    "    return df"
   ]
  },
  {
   "cell_type": "markdown",
   "id": "039ba327-75ea-4eaa-8f98-c92bc9020f4a",
   "metadata": {},
   "source": [
    "## 01. 정확도(Accuracy)"
   ]
  },
  {
   "cell_type": "markdown",
   "id": "75e788ff-36c3-40ce-b4fe-40369d22e3d6",
   "metadata": {},
   "source": [
    "$\\text{정확도} = \\dfrac{\\text{예측 결과가 동일한 데이터 건수}}{\\text{전체 예측 데이터 건수}}$"
   ]
  },
  {
   "cell_type": "markdown",
   "id": "06068f17-6beb-411a-9df9-d5911d3f1f7b",
   "metadata": {},
   "source": [
    "### Titanic"
   ]
  },
  {
   "cell_type": "code",
   "execution_count": 3,
   "id": "eab25a7b-d6bf-4cad-bd2e-ec16addfe4a6",
   "metadata": {},
   "outputs": [],
   "source": [
    "import numpy as np\n",
    "import pandas as pd\n",
    "from sklearn.base import BaseEstimator"
   ]
  },
  {
   "cell_type": "code",
   "execution_count": 4,
   "id": "cb7fcfac-c901-468f-83e0-47090e52bb6a",
   "metadata": {},
   "outputs": [],
   "source": [
    "class MyDummyClassifier(BaseEstimator):\n",
    "    def fit(self, X, y=None): # fit() 메서드는 아무것도 학습하지 않는다.\n",
    "        pass\n",
    "    \n",
    "    def predict(self, X): # predict() 메서드는 Sex 피처가 1이면 0, 그렇지 않으면 1로 예측하는 단순한 Classifier\n",
    "        pred = np.zeros( (X.shape[0], 1)) # X.shape[0]는 X의 행 개수\n",
    "        for i in range (X.shape[0]):\n",
    "            if X['Sex'].iloc[i] == 1:\n",
    "                pred[i] = 0\n",
    "            else:\n",
    "                pred[i] = 1\n",
    "                \n",
    "        return pred"
   ]
  },
  {
   "cell_type": "code",
   "execution_count": 5,
   "id": "4a0acdbb-d0fb-4165-a4bb-1f8d9d805114",
   "metadata": {},
   "outputs": [],
   "source": [
    "from sklearn.model_selection import train_test_split\n",
    "from sklearn.metrics import accuracy_score"
   ]
  },
  {
   "cell_type": "code",
   "execution_count": 6,
   "id": "53c6eb94-d820-46b4-80d5-0c6c04f45ed6",
   "metadata": {},
   "outputs": [],
   "source": [
    "# 데이터를 로딩\n",
    "titanic_df = pd.read_csv('data/titanic_train.csv')"
   ]
  },
  {
   "cell_type": "code",
   "execution_count": 7,
   "id": "ebb4d381-1d79-4983-ae20-403d2beba695",
   "metadata": {},
   "outputs": [
    {
     "data": {
      "text/html": [
       "<div>\n",
       "<style scoped>\n",
       "    .dataframe tbody tr th:only-of-type {\n",
       "        vertical-align: middle;\n",
       "    }\n",
       "\n",
       "    .dataframe tbody tr th {\n",
       "        vertical-align: top;\n",
       "    }\n",
       "\n",
       "    .dataframe thead th {\n",
       "        text-align: right;\n",
       "    }\n",
       "</style>\n",
       "<table border=\"1\" class=\"dataframe\">\n",
       "  <thead>\n",
       "    <tr style=\"text-align: right;\">\n",
       "      <th></th>\n",
       "      <th>PassengerId</th>\n",
       "      <th>Survived</th>\n",
       "      <th>Pclass</th>\n",
       "      <th>Name</th>\n",
       "      <th>Sex</th>\n",
       "      <th>Age</th>\n",
       "      <th>SibSp</th>\n",
       "      <th>Parch</th>\n",
       "      <th>Ticket</th>\n",
       "      <th>Fare</th>\n",
       "      <th>Cabin</th>\n",
       "      <th>Embarked</th>\n",
       "    </tr>\n",
       "  </thead>\n",
       "  <tbody>\n",
       "    <tr>\n",
       "      <th>0</th>\n",
       "      <td>1</td>\n",
       "      <td>0</td>\n",
       "      <td>3</td>\n",
       "      <td>Braund, Mr. Owen Harris</td>\n",
       "      <td>male</td>\n",
       "      <td>22.0</td>\n",
       "      <td>1</td>\n",
       "      <td>0</td>\n",
       "      <td>A/5 21171</td>\n",
       "      <td>7.2500</td>\n",
       "      <td>NaN</td>\n",
       "      <td>S</td>\n",
       "    </tr>\n",
       "    <tr>\n",
       "      <th>1</th>\n",
       "      <td>2</td>\n",
       "      <td>1</td>\n",
       "      <td>1</td>\n",
       "      <td>Cumings, Mrs. John Bradley (Florence Briggs Th...</td>\n",
       "      <td>female</td>\n",
       "      <td>38.0</td>\n",
       "      <td>1</td>\n",
       "      <td>0</td>\n",
       "      <td>PC 17599</td>\n",
       "      <td>71.2833</td>\n",
       "      <td>C85</td>\n",
       "      <td>C</td>\n",
       "    </tr>\n",
       "    <tr>\n",
       "      <th>2</th>\n",
       "      <td>3</td>\n",
       "      <td>1</td>\n",
       "      <td>3</td>\n",
       "      <td>Heikkinen, Miss. Laina</td>\n",
       "      <td>female</td>\n",
       "      <td>26.0</td>\n",
       "      <td>0</td>\n",
       "      <td>0</td>\n",
       "      <td>STON/O2. 3101282</td>\n",
       "      <td>7.9250</td>\n",
       "      <td>NaN</td>\n",
       "      <td>S</td>\n",
       "    </tr>\n",
       "  </tbody>\n",
       "</table>\n",
       "</div>"
      ],
      "text/plain": [
       "   PassengerId  Survived  Pclass  \\\n",
       "0            1         0       3   \n",
       "1            2         1       1   \n",
       "2            3         1       3   \n",
       "\n",
       "                                                Name     Sex   Age  SibSp  \\\n",
       "0                            Braund, Mr. Owen Harris    male  22.0      1   \n",
       "1  Cumings, Mrs. John Bradley (Florence Briggs Th...  female  38.0      1   \n",
       "2                             Heikkinen, Miss. Laina  female  26.0      0   \n",
       "\n",
       "   Parch            Ticket     Fare Cabin Embarked  \n",
       "0      0         A/5 21171   7.2500   NaN        S  \n",
       "1      0          PC 17599  71.2833   C85        C  \n",
       "2      0  STON/O2. 3101282   7.9250   NaN        S  "
      ]
     },
     "execution_count": 7,
     "metadata": {},
     "output_type": "execute_result"
    }
   ],
   "source": [
    "titanic_df.head(3)"
   ]
  },
  {
   "cell_type": "code",
   "execution_count": 8,
   "id": "99ae5389-990c-4db5-aac0-0304c242f757",
   "metadata": {},
   "outputs": [],
   "source": [
    "# 학습 데이터/테스트 데이터 분할\n",
    "y_titanic_df = titanic_df['Survived']\n",
    "X_titanic_df = titanic_df.drop('Survived', axis=1)\n",
    "X_titanic_df = transform_features(X_titanic_df)\n",
    "X_train, X_test, y_train, y_test = train_test_split(X_titanic_df, y_titanic_df,\n",
    "                                                    test_size=0.2, random_state=0)"
   ]
  },
  {
   "cell_type": "code",
   "execution_count": 9,
   "id": "0456f422-a5c8-4106-b2ab-71f4ca866f41",
   "metadata": {},
   "outputs": [],
   "source": [
    "# 위에서 생성한 Dummy Classifier를 이용해 학습/예측/평가 수행\n",
    "myclf = MyDummyClassifier()"
   ]
  },
  {
   "cell_type": "code",
   "execution_count": 10,
   "id": "9d86346d-1a58-45d8-913e-cc65a3bb185c",
   "metadata": {},
   "outputs": [],
   "source": [
    "myclf.fit(X_train, y_train)"
   ]
  },
  {
   "cell_type": "code",
   "execution_count": 11,
   "id": "f4c99631-63c3-4b73-bdf4-a423c7bb77c2",
   "metadata": {},
   "outputs": [],
   "source": [
    "mypredictions = myclf.predict(X_test)"
   ]
  },
  {
   "cell_type": "code",
   "execution_count": 12,
   "id": "ba905ac2-5638-44c1-928f-f3608affd3f1",
   "metadata": {},
   "outputs": [
    {
     "data": {
      "text/plain": [
       "array([[0.],\n",
       "       [0.],\n",
       "       [0.],\n",
       "       [1.],\n",
       "       [1.]])"
      ]
     },
     "execution_count": 12,
     "metadata": {},
     "output_type": "execute_result"
    }
   ],
   "source": [
    "mypredictions[:5] # ndarray는 head, tail을 지원하지 않으므로 이와 같이 사용한다."
   ]
  },
  {
   "cell_type": "code",
   "execution_count": 13,
   "id": "206fa297-4ee6-4138-b542-66b16430304d",
   "metadata": {},
   "outputs": [
    {
     "name": "stdout",
     "output_type": "stream",
     "text": [
      "Dummy Classifier의 정확도는: 0.7877094972067039\n"
     ]
    }
   ],
   "source": [
    "print('Dummy Classifier의 정확도는: {0}'.format(accuracy_score(y_test, mypredictions)))"
   ]
  },
  {
   "cell_type": "markdown",
   "id": "fbd54107-886a-4fc3-b3bc-7c9571360cbf",
   "metadata": {},
   "source": [
    "### MNIST"
   ]
  },
  {
   "cell_type": "code",
   "execution_count": 14,
   "id": "6aed14c4-69e8-49aa-8448-e3c3b38bf2d0",
   "metadata": {},
   "outputs": [],
   "source": [
    "from sklearn.datasets import load_digits\n",
    "from sklearn.model_selection import train_test_split\n",
    "from sklearn.base import BaseEstimator\n",
    "from sklearn.metrics import accuracy_score\n",
    "\n",
    "import numpy as np\n",
    "import pandas as pd"
   ]
  },
  {
   "cell_type": "code",
   "execution_count": 15,
   "id": "1a745074-0efe-416b-83a5-16899e11ad3d",
   "metadata": {},
   "outputs": [],
   "source": [
    "class MyFakeClassifier(BaseEstimator):\n",
    "    def fit(self, X, y):\n",
    "        pass\n",
    "    \n",
    "    # 입력값으로 들어오는 X 데이터 세트의 크기만큼 모두 0값으로 만들어서 반환\n",
    "    def predict(self, X):\n",
    "        return np.zeros( (len(X), 1), dtype=bool)"
   ]
  },
  {
   "cell_type": "code",
   "execution_count": 16,
   "id": "2af37e4b-af4b-4c6a-baab-a83405067232",
   "metadata": {},
   "outputs": [],
   "source": [
    "digits = load_digits()"
   ]
  },
  {
   "cell_type": "code",
   "execution_count": 17,
   "id": "4be3501a-917a-44cc-911c-cfbd5dda1552",
   "metadata": {},
   "outputs": [],
   "source": [
    "y = (digits.target == 7).astype(int)"
   ]
  },
  {
   "cell_type": "code",
   "execution_count": 18,
   "id": "caa29e8c-384d-421b-bc98-a97a8ee7c0f1",
   "metadata": {},
   "outputs": [],
   "source": [
    "X_train, X_test, y_train, y_test = train_test_split(digits.data, y, random_state=11)"
   ]
  },
  {
   "cell_type": "code",
   "execution_count": 19,
   "id": "f7192ff2-0514-40fe-8249-703d7ea4257d",
   "metadata": {},
   "outputs": [
    {
     "name": "stdout",
     "output_type": "stream",
     "text": [
      "레이블 테스트 세트 크기 : (450,)\n",
      "테스트 세트 레이블 0과 1의 분포도\n",
      "0    405\n",
      "1     45\n",
      "dtype: int64\n"
     ]
    }
   ],
   "source": [
    "# 불균형한 레이블 데이터 분포도 확인\n",
    "print('레이블 테스트 세트 크기 :', y_test.shape)\n",
    "print('테스트 세트 레이블 0과 1의 분포도')\n",
    "print(pd.Series(y_test).value_counts())"
   ]
  },
  {
   "cell_type": "code",
   "execution_count": 20,
   "id": "47218007-1042-4b38-9004-bdb9c2ba0a26",
   "metadata": {},
   "outputs": [
    {
     "name": "stdout",
     "output_type": "stream",
     "text": [
      "모든 예측을 0으로 하여도 정확도는 :  0.9\n"
     ]
    }
   ],
   "source": [
    "# Dummy Classifier로 학습/예측/정확도 평가\n",
    "fakeclf = MyFakeClassifier()\n",
    "fakeclf.fit(X_train, y_train)\n",
    "fakepred = fakeclf.predict(X_test)\n",
    "print('모든 예측을 0으로 하여도 정확도는 : ', accuracy_score(y_test, fakepred))"
   ]
  },
  {
   "cell_type": "markdown",
   "id": "02a64e2f-8ff0-4554-a2ce-db2424152f2b",
   "metadata": {},
   "source": [
    "이런 말도 안되는 예측을 성능 수치로 사용해서는 안된다.\n",
    "\n",
    "정확도가 가지는 분류 평가 지표로서 이러한 한계점을 극복하기 위해 여러 가지 분류 지표와 함께 적용해야 한다."
   ]
  },
  {
   "cell_type": "markdown",
   "id": "55065ab5-cf59-47a0-89e8-d242712c2796",
   "metadata": {},
   "source": [
    "## 02. 오차행렬"
   ]
  },
  {
   "attachments": {
    "1187af03-6572-4fd9-8a23-36319c3ceb06.png": {
     "image/png": "[encoded data removed]"
    }
   },
   "cell_type": "markdown",
   "id": "bfe16182-6376-4918-9f39-27ee683fc01c",
   "metadata": {},
   "source": [
    "![image.png](attachment:1187af03-6572-4fd9-8a23-36319c3ceb06.png)"
   ]
  },
  {
   "cell_type": "markdown",
   "id": "77f6a165-7bbf-421c-8906-85042e66764a",
   "metadata": {},
   "source": [
    "FN : 위음성"
   ]
  },
  {
   "cell_type": "markdown",
   "id": "733caa8f-3ef2-4328-a35b-8d13475cb214",
   "metadata": {},
   "source": [
    "FP : 위양성"
   ]
  },
  {
   "cell_type": "code",
   "execution_count": 21,
   "id": "cce44ef5-1396-4f17-9bb8-fc48adc92c42",
   "metadata": {},
   "outputs": [],
   "source": [
    "from sklearn.metrics import confusion_matrix"
   ]
  },
  {
   "cell_type": "code",
   "execution_count": 22,
   "id": "e09b3538-bf48-4b71-ba46-cd9cb198d5d5",
   "metadata": {},
   "outputs": [
    {
     "data": {
      "text/plain": [
       "array([[405,   0],\n",
       "       [ 45,   0]], dtype=int64)"
      ]
     },
     "execution_count": 22,
     "metadata": {},
     "output_type": "execute_result"
    }
   ],
   "source": [
    "confusion_matrix(y_test, fakepred)"
   ]
  },
  {
   "cell_type": "markdown",
   "id": "68d7c88b-796a-486c-91e0-5e75a13a2918",
   "metadata": {},
   "source": [
    "$정확도 = \\dfrac{\\text{예측 결과와 실제 값이 동일한 건수}}{\\text{전체 데이터 수}} = \\dfrac{TN+TP}{TN+FP+FN+TP}$"
   ]
  },
  {
   "cell_type": "markdown",
   "id": "7a15c0cb-8657-4233-bea3-0290382655cb",
   "metadata": {},
   "source": [
    "## 03. 정밀도와 재현율"
   ]
  },
  {
   "cell_type": "markdown",
   "id": "4f0191a1-2160-4ffc-9390-2dd90abfb192",
   "metadata": {},
   "source": [
    "정밀도와 재현율은 Positive 데이터 세트의 예측 성능에 좀 더 초점을 맞춘 평가 지표입니다."
   ]
  },
  {
   "cell_type": "markdown",
   "id": "d25b5d75-a341-4ea4-8b40-e154b86c52d9",
   "metadata": {},
   "source": [
    "- 정밀도 : 예측을 Positive로 한 대상 중에 실제 값이 Positive로 일치한 데이터의 비율을 뜻한다.\n",
    "\n",
    "- 재현율 : 실제 값이 Positive인 대상 중에 예측과 실제 값이 Positive로 일치한 데이터의 비율을 뜻한다."
   ]
  },
  {
   "cell_type": "markdown",
   "id": "67846d63-1411-40a4-b44c-bd6c61268fb7",
   "metadata": {},
   "source": [
    "$정밀도 = \\dfrac{TP}{FP+TP}$ = `precision_score()`"
   ]
  },
  {
   "cell_type": "markdown",
   "id": "26b5cefe-3c16-4db7-bf72-148142353b68",
   "metadata": {},
   "source": [
    "$재현율 = \\dfrac{TP}{FN+TP}$ = `recall_score()`"
   ]
  },
  {
   "cell_type": "code",
   "execution_count": 23,
   "id": "2d098442-10ca-4847-8475-c9abb307c2a9",
   "metadata": {},
   "outputs": [],
   "source": [
    "from sklearn.metrics import accuracy_score, precision_score, recall_score, confusion_matrix"
   ]
  },
  {
   "cell_type": "code",
   "execution_count": 24,
   "id": "4ff95559-9b86-4418-a0cc-e3690cfcce52",
   "metadata": {},
   "outputs": [],
   "source": [
    "def get_clf_eval(y_test, pred):\n",
    "    confusion = confusion_matrix(y_test, pred)\n",
    "    accuracy = accuracy_score(y_test, pred)\n",
    "    precision = precision_score(y_test, pred)\n",
    "    recall = recall_score(y_test, pred)\n",
    "    print('오차 행렬')\n",
    "    print(confusion)\n",
    "    print('정확도 : {0}, 정밀도 : {1}, 재현성 : {2}'.format(accuracy, precision, recall))"
   ]
  },
  {
   "cell_type": "code",
   "execution_count": 25,
   "id": "f7001d12-9fb9-4142-af43-26c287594007",
   "metadata": {},
   "outputs": [],
   "source": [
    "# 로지스틱 회귀 기반으로 타이타닉 생존자를 예측하고 confusion matrix, accuracy, precision, recall 평가를 수행합니다.\n",
    "\n",
    "import pandas as pd\n",
    "from sklearn.model_selection import train_test_split\n",
    "from sklearn.linear_model import LogisticRegression\n",
    "\n",
    "titanic_df = pd.read_csv('data/titanic_train.csv')"
   ]
  },
  {
   "cell_type": "code",
   "execution_count": 26,
   "id": "becdf441-7fd0-413d-b624-2b81d85f09f6",
   "metadata": {},
   "outputs": [],
   "source": [
    "y_titanic_df = titanic_df['Survived']\n",
    "X_titanic_df = titanic_df.drop('Survived', axis = 1)\n",
    "X_titanic_df = transform_features(X_titanic_df)"
   ]
  },
  {
   "cell_type": "code",
   "execution_count": 27,
   "id": "384fa837-f053-43e6-87a3-97b45ea32761",
   "metadata": {},
   "outputs": [],
   "source": [
    "X_train, X_test, y_train, y_test = train_test_split(X_titanic_df, y_titanic_df,\n",
    "                                                    test_size = 0.2, random_state = 11)"
   ]
  },
  {
   "cell_type": "code",
   "execution_count": 28,
   "id": "c263fd23-6ab2-4bf6-9b4d-ceb8a21d9f81",
   "metadata": {},
   "outputs": [],
   "source": [
    "lr_clf = LogisticRegression()"
   ]
  },
  {
   "cell_type": "code",
   "execution_count": 29,
   "id": "fb12c2c2-518c-435f-8c72-356fe5cc02c2",
   "metadata": {},
   "outputs": [
    {
     "name": "stderr",
     "output_type": "stream",
     "text": [
      "C:\\Users\\woo\\anaconda3\\envs\\py39r41\\lib\\site-packages\\sklearn\\linear_model\\_logistic.py:814: ConvergenceWarning: lbfgs failed to converge (status=1):\n",
      "STOP: TOTAL NO. of ITERATIONS REACHED LIMIT.\n",
      "\n",
      "Increase the number of iterations (max_iter) or scale the data as shown in:\n",
      "    https://scikit-learn.org/stable/modules/preprocessing.html\n",
      "Please also refer to the documentation for alternative solver options:\n",
      "    https://scikit-learn.org/stable/modules/linear_model.html#logistic-regression\n",
      "  n_iter_i = _check_optimize_result(\n"
     ]
    },
    {
     "data": {
      "text/plain": [
       "LogisticRegression()"
      ]
     },
     "execution_count": 29,
     "metadata": {},
     "output_type": "execute_result"
    }
   ],
   "source": [
    "lr_clf.fit(X_train, y_train)"
   ]
  },
  {
   "cell_type": "code",
   "execution_count": 30,
   "id": "1db5a9b8-302f-469a-9923-58167ed0ba24",
   "metadata": {},
   "outputs": [],
   "source": [
    "pred = lr_clf.predict(X_test)"
   ]
  },
  {
   "cell_type": "code",
   "execution_count": 31,
   "id": "19d97d2f-b113-408c-bb60-0beb85d65377",
   "metadata": {},
   "outputs": [
    {
     "name": "stdout",
     "output_type": "stream",
     "text": [
      "오차 행렬\n",
      "[[104  14]\n",
      " [ 13  48]]\n",
      "정확도 : 0.8491620111731844, 정밀도 : 0.7741935483870968, 재현성 : 0.7868852459016393\n"
     ]
    }
   ],
   "source": [
    "get_clf_eval(y_test, pred)"
   ]
  },
  {
   "cell_type": "markdown",
   "id": "974c59ea-194a-40c6-a38b-ce742d99a2ff",
   "metadata": {},
   "source": [
    "### 정밀도/재현율 트레이드오프"
   ]
  },
  {
   "cell_type": "markdown",
   "id": "231d2668-a3b8-45d3-b4f0-a277767a1b43",
   "metadata": {},
   "source": [
    "## 05. ROC 곡선과 AUC"
   ]
  },
  {
   "attachments": {
    "1187af03-6572-4fd9-8a23-36319c3ceb06.png": {
     "image/png": "[encoded data removed]"
    }
   },
   "cell_type": "markdown",
   "id": "5fa9dbcb-2be0-4402-8989-ceae11ecaf08",
   "metadata": {},
   "source": [
    "![image.png](attachment:1187af03-6572-4fd9-8a23-36319c3ceb06.png)"
   ]
  },
  {
   "cell_type": "markdown",
   "id": "05ba22d7-36d5-468a-a9ab-bfda169b9811",
   "metadata": {},
   "source": [
    "ROC 곡선은 FPR이 변할 때 TPR이 어떻게 변하는지를 나타내는 곡선이다."
   ]
  },
  {
   "cell_type": "markdown",
   "id": "4d7f40da-a6d9-4cfc-81df-3a02e0c6c993",
   "metadata": {},
   "source": [
    "- TPR : True Positive Rate = $\\dfrac{TP}{FN+TP}$ = 실제로도 양성인 것들 중에서, 양성이라고 판단한 비율 = 재현율 = 민감도\n",
    "\n",
    "- FPR : False Positive Rate = $\\dfrac{FP}{FP+TN}$ = 실제로는 음성인 것들 중에서, 양성이라고 잘못 판단한 비율"
   ]
  },
  {
   "cell_type": "markdown",
   "id": "753eed97-5fc2-464e-8463-99ea67d61d35",
   "metadata": {},
   "source": [
    "---"
   ]
  },
  {
   "cell_type": "markdown",
   "id": "524de850-7d1d-4c8c-9bc3-c6f6653078b8",
   "metadata": {},
   "source": [
    "- TNR : True Negative Rate = $\\dfrac{TN}{FP+TN}$ = 실제로도 음성인 것을, 음성이라고 판단한 비율 = 특이도"
   ]
  },
  {
   "cell_type": "markdown",
   "id": "b5f90a34-dc9e-4acb-9de1-cad096435e75",
   "metadata": {},
   "source": [
    "- $TNR = 1 - FPR$"
   ]
  },
  {
   "cell_type": "code",
   "execution_count": 32,
   "id": "274f987c-3adf-4dd5-8fe3-664a0145a8c1",
   "metadata": {},
   "outputs": [],
   "source": [
    "a = '123'"
   ]
  },
  {
   "cell_type": "code",
   "execution_count": 33,
   "id": "73261d41-6035-4a26-b50f-2249e5ce19e2",
   "metadata": {},
   "outputs": [
    {
     "name": "stdout",
     "output_type": "stream",
     "text": [
      "asdf 123,    dsdf\n"
     ]
    }
   ],
   "source": [
    "print('asdf {0},\\\n",
    "    dsdf'.format(a))"
   ]
  },
  {
   "cell_type": "code",
   "execution_count": 36,
   "id": "fedf7732-454b-4d78-a17a-9178561a96d1",
   "metadata": {},
   "outputs": [
    {
     "name": "stdout",
     "output_type": "stream",
     "text": [
      "asdf 123dsdf\n"
     ]
    }
   ],
   "source": [
    "print('asdf {0}\\\n",
    "dsdf'.format(a))"
   ]
  },
  {
   "cell_type": "code",
   "execution_count": 37,
   "id": "a184337f-2e46-4e01-a4d6-878199107e4b",
   "metadata": {},
   "outputs": [],
   "source": [
    " from sklearn.neighbors import KNeighborsClassifier"
   ]
  },
  {
   "cell_type": "code",
   "execution_count": 40,
   "id": "8a9c4155-9cba-48c4-8f01-a45d67c532b5",
   "metadata": {},
   "outputs": [],
   "source": [
    "import matplotlib.pyplot as plt"
   ]
  },
  {
   "cell_type": "code",
   "execution_count": 41,
   "id": "8679d23c-1721-4bd0-bc63-17b84b7a153b",
   "metadata": {},
   "outputs": [
    {
     "data": {
      "text/plain": [
       "<matplotlib.legend.Legend at 0x2097a416fd0>"
      ]
     },
     "execution_count": 41,
     "metadata": {},
     "output_type": "execute_result"
    },
    {
     "data": {
      "image/png": "[encoded data removed]",
      "text/plain": [
       "<Figure size 432x288 with 1 Axes>"
      ]
     },
     "metadata": {
      "needs_background": "light"
     },
     "output_type": "display_data"
    }
   ],
   "source": [
    "from sklearn.datasets import load_breast_cancer\n",
    "\n",
    "cancer= load_breast_cancer()\n",
    "X_train, X_test, y_train, y_test = train_test_split(\n",
    "cancer.data, cancer.target, stratify=cancer.target, random_state=0)\n",
    "\n",
    "training_accuracy = []\n",
    "test_accuracy = []\n",
    "\n",
    "neighbors_settings = range(1,200)\n",
    "\n",
    "for n_neighbors in neighbors_settings:\n",
    "    clf = KNeighborsClassifier(n_neighbors=n_neighbors)\n",
    "    clf.fit(X_train, y_train)\n",
    "    training_accuracy.append(clf.score(X_train, y_train))\n",
    "    test_accuracy.append(clf.score(X_test, y_test))\n",
    "\n",
    "plt.plot(neighbors_settings, training_accuracy, label=\"training accuracy\")\n",
    "plt.plot(neighbors_settings, test_accuracy, label=\"test accuracy\")\n",
    "plt.ylabel(\"Accuracy\")\n",
    "plt.xlabel(\"n_neighbors\")\n",
    "plt.legend()\n"
   ]
  },
  {
   "cell_type": "code",
   "execution_count": null,
   "id": "4755d514-002a-44fa-96e9-929cde309335",
   "metadata": {},
   "outputs": [],
   "source": []
  }
 ],
 "metadata": {
  "kernelspec": {
   "display_name": "Python 3 (ipykernel)",
   "language": "python",
   "name": "python3"
  },
  "language_info": {
   "codemirror_mode": {
    "name": "ipython",
    "version": 3
   },
   "file_extension": ".py",
   "mimetype": "text/x-python",
   "name": "python",
   "nbconvert_exporter": "python",
   "pygments_lexer": "ipython3",
   "version": "3.9.7"
  }
 },
 "nbformat": 4,
 "nbformat_minor": 5
}
